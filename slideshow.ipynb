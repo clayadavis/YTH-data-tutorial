{
 "metadata": {
  "name": ""
 },
 "nbformat": 3,
 "nbformat_minor": 0,
 "worksheets": [
  {
   "cells": [
    {
     "cell_type": "markdown",
     "metadata": {
      "slideshow": {
       "slide_type": "slide"
      }
     },
     "source": [
      "Workshop: Exploring, Analyzing and Visualizing Open Health Data on the Web\n",
      "=============\n",
      "\n",
      "###Clayton A Davis\n",
      "#### Center for Complex Networks and Systems Research\n",
      "#### Indiana University School of Informatics and Computing\n",
      "\n",
      "![](files/yth_banner.png)"
     ]
    },
    {
     "cell_type": "markdown",
     "metadata": {
      "slideshow": {
       "slide_type": "notes"
      }
     },
     "source": [
      "Approx. Timetable\n",
      "\n",
      "00: Begin\n",
      "\n",
      "02: Setup\n",
      "\n",
      "05: 1. Intro to IPy\n",
      "\n",
      "07: Intro to DataFrames\n",
      "\n",
      "13: Group By\n",
      "\n",
      "16: Joining Dataframes\n",
      "\n",
      "20: 2. Data types\n",
      "\n",
      "22: REST APIs\n",
      "\n",
      "25: Advanced topics\n",
      "\n",
      "26: Working with KR data\n",
      "\n",
      "35: Do another mashup"
     ]
    },
    {
     "cell_type": "markdown",
     "metadata": {
      "slideshow": {
       "slide_type": "slide"
      }
     },
     "source": [
      "Intro\n",
      "=====\n",
      "\n",
      "* There is more data out there besides spreadsheets\n",
      "* Excel can be great at organising and visualizing data, but it is poor for \"munging\"\n",
      "* Spreadsheets only handle a narrow kind of data well\n",
      "* By leveraging APIs, you can make your own datasets"
     ]
    },
    {
     "cell_type": "markdown",
     "metadata": {
      "slideshow": {
       "slide_type": "slide"
      }
     },
     "source": [
      "Outline\n",
      "=======\n",
      "\n",
      "1. Setup and Python/IPython basics\n",
      "2. Working with tabular data\n",
      "3. Using non-tabular data"
     ]
    },
    {
     "cell_type": "markdown",
     "metadata": {
      "slideshow": {
       "slide_type": "slide"
      }
     },
     "source": [
      "Before We Begin\n",
      "====\n",
      "\n",
      "* This is a condensed version of a 90-minute presentation\n",
      "    * You should try to follow along, but it's okay to skip a part\n",
      "    * It's more important to get a feel for these tools and how they work together\n",
      "* This slideshow will be available after the demo at\n",
      "    http://github.com/clayadavis/YTH2014\n",
      "    * I will fill in the sections with the actual code I use"
     ]
    },
    {
     "cell_type": "markdown",
     "metadata": {
      "slideshow": {
       "slide_type": "slide"
      }
     },
     "source": [
      "1. Setup and Python/Pandas basics\n",
      "============="
     ]
    },
    {
     "cell_type": "markdown",
     "metadata": {
      "slideshow": {
       "slide_type": "slide"
      }
     },
     "source": [
      "1.1 Setup\n",
      "=========\n",
      "\n",
      "1. Get a note with a 4-digit number on it like ####\n",
      "2. Open a modern web browser (Chrome, Firefox 10+, IE10)\n",
      "3. Depending on your number, navigate to one of the following URLs as instructed\n",
      "    \n",
      "        http://1.apibench.com:####\n",
      "\n",
      "        http://2.apibench.com:####\n",
      "        \n",
      "        http://3.apibench.com:####\n",
      "        \n",
      "        http://4.apibench.com:####\n",
      "    \n",
      "    where #### is your number.\n",
      "4. Your password is **YTHdemo####**\n",
      "5. You should see the IPython Dashboard.\n",
      "6. In a separate browser tab/window, open `http://apibench.com`"
     ]
    },
    {
     "cell_type": "markdown",
     "metadata": {
      "slideshow": {
       "slide_type": "slide"
      }
     },
     "source": [
      "1.2 Intro to IPython notebook\n",
      "============================\n",
      "\n",
      "1. How code blocks work\n",
      "2. A bit about Python\n",
      "    * `print(\"hello world\")`\n",
      "    * Assigning variables\n",
      "    \n",
      "            a = 5\n",
      "        \n",
      "            b = a * 2\n",
      "        \n",
      "            print(b)\n",
      "    \n",
      "    \n",
      "    * `import pandas`"
     ]
    },
    {
     "cell_type": "markdown",
     "metadata": {
      "slideshow": {
       "slide_type": "slide"
      }
     },
     "source": [
      "2. Working With Tabular Data\n",
      "========"
     ]
    },
    {
     "cell_type": "markdown",
     "metadata": {
      "slideshow": {
       "slide_type": "slide"
      }
     },
     "source": [
      "2.1 Intro to The Pandas DataFrame\n",
      "====\n",
      "\n",
      "1. Loading data\n",
      "2. Summary statistics\n",
      "    * describe()\n",
      "    * head(), tail()\n",
      "    * mean(), median(), min(), max()\n",
      "3. Viewing data\n",
      "    * plot()\n",
      "    * boxplot(column=' ', by=' ')\n",
      "    * hist(column=' ')\n",
      "    * hist(column=' ', by=' ')\n",
      "    * scatter(series1, series2)\n",
      "4. (Selecting rows) -- time permitting\n",
      "    * Include assigning subsets to variable"
     ]
    },
    {
     "cell_type": "markdown",
     "metadata": {
      "slideshow": {
       "slide_type": "slide"
      }
     },
     "source": [
      "2.2 Joining DataFrames\n",
      "======\n",
      "\n",
      "Join the dropout rate Data Frame with the population Data Frame"
     ]
    },
    {
     "cell_type": "markdown",
     "metadata": {
      "slideshow": {
       "slide_type": "slide"
      }
     },
     "source": [
      "2.3 `cut`, `qcut`, and `groupby`\n",
      "====\n",
      "\n",
      "The task: find the mean teen preganancy rates for small, medium, and large counties in Illinois.\n",
      "    \n",
      "Bonus: Do it with boxplots!"
     ]
    },
    {
     "cell_type": "markdown",
     "metadata": {
      "slideshow": {
       "slide_type": "slide"
      }
     },
     "source": [
      "3. Using Non-Tabular Data\n",
      "======="
     ]
    },
    {
     "cell_type": "markdown",
     "metadata": {
      "slideshow": {
       "slide_type": "slide"
      }
     },
     "source": [
      "3.1 Data Types\n",
      "====\n",
      "\n",
      "1. Number\n",
      "-----"
     ]
    },
    {
     "cell_type": "code",
     "collapsed": false,
     "input": [
      "a = 2\n",
      "b = 3.14\n",
      "c = a + b\n",
      "\n",
      "print(c)"
     ],
     "language": "python",
     "metadata": {
      "slideshow": {
       "slide_type": "fragment"
      }
     },
     "outputs": [
      {
       "output_type": "stream",
       "stream": "stdout",
       "text": [
        "5.14\n"
       ]
      }
     ],
     "prompt_number": 6
    },
    {
     "cell_type": "markdown",
     "metadata": {
      "slideshow": {
       "slide_type": "slide"
      }
     },
     "source": [
      "2. String\n",
      "----"
     ]
    },
    {
     "cell_type": "code",
     "collapsed": false,
     "input": [
      "s = 'Hello'\n",
      "t = 'World'\n",
      "u = s + t\n",
      "\n",
      "print(u)"
     ],
     "language": "python",
     "metadata": {
      "slideshow": {
       "slide_type": "fragment"
      }
     },
     "outputs": [
      {
       "output_type": "stream",
       "stream": "stdout",
       "text": [
        "HelloWorld\n"
       ]
      }
     ],
     "prompt_number": 7
    },
    {
     "cell_type": "markdown",
     "metadata": {
      "slideshow": {
       "slide_type": "slide"
      }
     },
     "source": [
      "Note: Types Matter!\n",
      "----"
     ]
    },
    {
     "cell_type": "code",
     "collapsed": false,
     "input": [
      "a = 5\n",
      "print(a == 5)"
     ],
     "language": "python",
     "metadata": {
      "slideshow": {
       "slide_type": "fragment"
      }
     },
     "outputs": [
      {
       "output_type": "stream",
       "stream": "stdout",
       "text": [
        "True\n"
       ]
      }
     ],
     "prompt_number": 36
    },
    {
     "cell_type": "code",
     "collapsed": false,
     "input": [
      "print(a == '5')"
     ],
     "language": "python",
     "metadata": {
      "slideshow": {
       "slide_type": "fragment"
      }
     },
     "outputs": [
      {
       "output_type": "stream",
       "stream": "stdout",
       "text": [
        "False\n"
       ]
      }
     ],
     "prompt_number": 37
    },
    {
     "cell_type": "markdown",
     "metadata": {
      "slideshow": {
       "slide_type": "slide"
      }
     },
     "source": [
      "3.1 Data Types (cont.)\n",
      "====\n",
      "3. List\n",
      "----"
     ]
    },
    {
     "cell_type": "code",
     "collapsed": false,
     "input": [
      "fruits = ['apple', 'banana', 'carrot', 'durian fruit (sp?)']\n",
      "\n",
      "print(fruits)\n",
      "print(fruits[0])\n",
      "print(fruits[1:3])"
     ],
     "language": "python",
     "metadata": {
      "slideshow": {
       "slide_type": "fragment"
      }
     },
     "outputs": [
      {
       "output_type": "stream",
       "stream": "stdout",
       "text": [
        "['apple', 'banana', 'carrot', 'durian fruit (sp?)']\n",
        "apple\n",
        "['banana', 'carrot']\n"
       ]
      }
     ],
     "prompt_number": 15
    },
    {
     "cell_type": "code",
     "collapsed": false,
     "input": [
      "hodgepodge = [42, 'Queen, God Save the', 94.1]\n",
      "\n",
      "print(hodgepodge[:2])\n",
      "print(hodgepodge[-1])"
     ],
     "language": "python",
     "metadata": {
      "slideshow": {
       "slide_type": "fragment"
      }
     },
     "outputs": [
      {
       "output_type": "stream",
       "stream": "stdout",
       "text": [
        "[42, 'Queen, God Save the']\n",
        "94.1\n"
       ]
      }
     ],
     "prompt_number": 19
    },
    {
     "cell_type": "markdown",
     "metadata": {
      "slideshow": {
       "slide_type": "slide"
      }
     },
     "source": [
      "4. Dictionary\n",
      "----"
     ]
    },
    {
     "cell_type": "code",
     "collapsed": false,
     "input": [
      "user_record = {'username': 'clayadavis',\n",
      "               'number_of_tweets': 72,\n",
      "               'last_activity': '2013-04-27',\n",
      "               }\n",
      "\n",
      "print(user_record['username'], user_record['number_of_tweets'])"
     ],
     "language": "python",
     "metadata": {
      "slideshow": {
       "slide_type": "fragment"
      }
     },
     "outputs": [
      {
       "output_type": "stream",
       "stream": "stdout",
       "text": [
        "('clayadavis', 72)\n"
       ]
      }
     ],
     "prompt_number": 22
    },
    {
     "cell_type": "markdown",
     "metadata": {
      "slideshow": {
       "slide_type": "slide"
      }
     },
     "source": [
      "Note: Types Matter!\n",
      "----"
     ]
    },
    {
     "cell_type": "code",
     "collapsed": false,
     "input": [
      "\n",
      "print(hodgepodge['1'])"
     ],
     "language": "python",
     "metadata": {
      "slideshow": {
       "slide_type": "fragment"
      }
     },
     "outputs": [
      {
       "ename": "TypeError",
       "evalue": "list indices must be integers, not str",
       "output_type": "pyerr",
       "traceback": [
        "\u001b[1;31m---------------------------------------------------------------------------\u001b[0m\n\u001b[1;31mTypeError\u001b[0m                                 Traceback (most recent call last)",
        "\u001b[1;32m<ipython-input-26-945d80f33d4a>\u001b[0m in \u001b[0;36m<module>\u001b[1;34m()\u001b[0m\n\u001b[1;32m----> 1\u001b[1;33m \u001b[1;32mprint\u001b[0m\u001b[1;33m(\u001b[0m\u001b[0mhodgepodge\u001b[0m\u001b[1;33m[\u001b[0m\u001b[1;34m'1'\u001b[0m\u001b[1;33m]\u001b[0m\u001b[1;33m)\u001b[0m\u001b[1;33m\u001b[0m\u001b[0m\n\u001b[0m",
        "\u001b[1;31mTypeError\u001b[0m: list indices must be integers, not str"
       ]
      }
     ],
     "prompt_number": 26
    },
    {
     "cell_type": "code",
     "collapsed": false,
     "input": [
      "print(user_record[1])"
     ],
     "language": "python",
     "metadata": {
      "slideshow": {
       "slide_type": "fragment"
      }
     },
     "outputs": [
      {
       "ename": "KeyError",
       "evalue": "1",
       "output_type": "pyerr",
       "traceback": [
        "\u001b[1;31m---------------------------------------------------------------------------\u001b[0m\n\u001b[1;31mKeyError\u001b[0m                                  Traceback (most recent call last)",
        "\u001b[1;32m<ipython-input-27-949811bc091f>\u001b[0m in \u001b[0;36m<module>\u001b[1;34m()\u001b[0m\n\u001b[1;32m----> 1\u001b[1;33m \u001b[1;32mprint\u001b[0m\u001b[1;33m(\u001b[0m\u001b[0muser_record\u001b[0m\u001b[1;33m[\u001b[0m\u001b[1;36m1\u001b[0m\u001b[1;33m]\u001b[0m\u001b[1;33m)\u001b[0m\u001b[1;33m\u001b[0m\u001b[0m\n\u001b[0m",
        "\u001b[1;31mKeyError\u001b[0m: 1"
       ]
      }
     ],
     "prompt_number": 27
    },
    {
     "cell_type": "markdown",
     "metadata": {
      "slideshow": {
       "slide_type": "slide"
      }
     },
     "source": [
      "<style>\n",
      ".green{\n",
      "    font-color: green;\n",
      "}\n",
      ".coral{\n",
      "    font-color: coral;\n",
      "}\n",
      ".peri{\n",
      "    font-color: periwinkle;\n",
      "}\n",
      "</style>\n",
      "\n",
      "3.2 REST APIs\n",
      "====\n",
      "\n",
      "Check out http://kinseyreporter.org/data\n",
      "\n",
      "A REST URL consists of the following parts:\n",
      "\n",
      "1. The root path\n",
      "2. The noun, i.e. the type of object you want\n",
      "3. (Optionally) A question mark followed by query parameters\n",
      "    * Parameters are seperated by ampersand (&)\n",
      "\n",
      "![](files/kr_url.png)\n",
      "\n",
      "Try it!"
     ]
    },
    {
     "cell_type": "markdown",
     "metadata": {
      "slideshow": {
       "slide_type": "slide"
      }
     },
     "source": [
      "3.2 REST APIs (cont.)\n",
      "===="
     ]
    },
    {
     "cell_type": "code",
     "collapsed": false,
     "input": [
      "import requests\n",
      "\n",
      "resp = requests.get('http://kinseyreporter.org/API/list/reports?tag=female+victim')\n",
      "resp_txt = resp.text\n",
      "print(resp_txt)"
     ],
     "language": "python",
     "metadata": {
      "slideshow": {
       "slide_type": "fragment"
      }
     },
     "outputs": [
      {
       "output_type": "stream",
       "stream": "stdout",
       "text": [
        "{\"search_params\": [{\"tag\": {\"text\": \"female victim\", \"id\": 65}}], \"reports\": [{\"city\": \"Bloomington\", \"timestamp\": \"2012-07-15 11:56:03\", \"state\": \"Indiana\", \"location\": {\"city\": \"Bloomington\", \"state\": \"Indiana\", \"country\": \"US\"}, \"country\": \"US\", \"report_id\": 15}, {\"city\": \"San Francisco\", \"timestamp\": \"2012-07-24 11:08:31\", \"state\": \"California\", \"location\": {\"city\": \"San Francisco\", \"state\": \"California\", \"country\": \"US\"}, \"country\": \"US\", \"report_id\": 65}, {\"city\": \"Locarno\", \"timestamp\": \"2012-08-21 00:00:00\", \"state\": \"Ticino\", \"location\": {\"city\": \"Locarno\", \"state\": \"Ticino\", \"country\": \"CH\"}, \"country\": \"CH\", \"report_id\": 345}, {\"city\": \"Arbedo-Castione\", \"timestamp\": \"2012-08-21 00:00:00\", \"state\": \"Ticino\", \"location\": {\"city\": \"Arbedo-Castione\", \"state\": \"Ticino\", \"country\": \"CH\"}, \"country\": \"CH\", \"report_id\": 347}, {\"city\": \"Mendrisio\", \"timestamp\": \"2012-08-21 12:00:00\", \"state\": \"Ticino\", \"location\": {\"city\": \"Mendrisio\", \"state\": \"Ticino\", \"country\": \"CH\"}, \"country\": \"CH\", \"report_id\": 354}, {\"city\": \"Porlezza\", \"timestamp\": \"2012-08-21 12:00:00\", \"state\": \"Lombardy\", \"location\": {\"city\": \"Porlezza\", \"state\": \"Lombardy\", \"country\": \"IT\"}, \"country\": \"IT\", \"report_id\": 358}, {\"city\": \"Pura\", \"timestamp\": \"2012-08-23 12:00:00\", \"state\": \"Ticino\", \"location\": {\"city\": \"Pura\", \"state\": \"Ticino\", \"country\": \"CH\"}, \"country\": \"CH\", \"report_id\": 425}, {\"city\": \"Bloomington\", \"timestamp\": \"2012-08-31 12:00:00\", \"state\": \"Indiana\", \"location\": {\"city\": \"Bloomington\", \"state\": \"Indiana\", \"country\": \"US\"}, \"country\": \"US\", \"report_id\": 693}, {\"city\": \"Philadelphia\", \"timestamp\": \"2012-08-31 12:00:00\", \"state\": \"Pennsylvania\", \"location\": {\"city\": \"Philadelphia\", \"state\": \"Pennsylvania\", \"country\": \"US\"}, \"country\": \"US\", \"report_id\": 699}, {\"city\": \"Rutland\", \"timestamp\": \"2012-09-05 00:00:00\", \"state\": \"Massachusetts\", \"location\": {\"city\": \"Rutland\", \"state\": \"Massachusetts\", \"country\": \"US\"}, \"country\": \"US\", \"report_id\": 826}, {\"city\": \"Bloomington\", \"timestamp\": \"2012-09-05 00:00:00\", \"state\": \"Indiana\", \"location\": {\"city\": \"Bloomington\", \"state\": \"Indiana\", \"country\": \"US\"}, \"country\": \"US\", \"report_id\": 827}, {\"city\": \"Bloomington\", \"timestamp\": \"2012-09-05 12:00:00\", \"state\": \"Indiana\", \"location\": {\"city\": \"Bloomington\", \"state\": \"Indiana\", \"country\": \"US\"}, \"country\": \"US\", \"report_id\": 833}, {\"city\": \"Kalamazoo Township\", \"timestamp\": \"2012-09-05 12:00:00\", \"state\": \"Michigan\", \"location\": {\"city\": \"Kalamazoo Township\", \"state\": \"Michigan\", \"country\": \"US\"}, \"country\": \"US\", \"report_id\": 866}, {\"city\": \"St Louis\", \"timestamp\": \"2012-09-05 12:00:00\", \"state\": \"Missouri\", \"location\": {\"city\": \"St Louis\", \"state\": \"Missouri\", \"country\": \"US\"}, \"country\": \"US\", \"report_id\": 875}, {\"city\": \"Bedford\", \"timestamp\": \"2012-09-05 12:00:00\", \"state\": \"Texas\", \"location\": {\"city\": \"Bedford\", \"state\": \"Texas\", \"country\": \"US\"}, \"country\": \"US\", \"report_id\": 927}, {\"city\": \"Auburn\", \"timestamp\": \"2012-09-05 12:00:00\", \"state\": \"Alabama\", \"location\": {\"city\": \"Auburn\", \"state\": \"Alabama\", \"country\": \"US\"}, \"country\": \"US\", \"report_id\": 960}, {\"city\": \"Bellevue\", \"timestamp\": \"2012-09-05 12:00:00\", \"state\": \"Washington\", \"location\": {\"city\": \"Bellevue\", \"state\": \"Washington\", \"country\": \"US\"}, \"country\": \"US\", \"report_id\": 1013}, {\"city\": \"Bloomington\", \"timestamp\": \"2012-09-06 00:00:00\", \"state\": \"Indiana\", \"location\": {\"city\": \"Bloomington\", \"state\": \"Indiana\", \"country\": \"US\"}, \"country\": \"US\", \"report_id\": 1025}, {\"city\": null, \"timestamp\": \"2013-08-26 00:08:13\", \"state\": \"Wisconsin\", \"location\": {\"city\": null, \"state\": \"Wisconsin\", \"country\": \"US\"}, \"country\": \"US\", \"report_id\": 1048387784344729510}, {\"city\": null, \"timestamp\": \"2014-02-10 15:29:02\", \"state\": \"Indiana\", \"location\": {\"city\": null, \"state\": \"Indiana\", \"country\": \"US\"}, \"country\": \"US\", \"report_id\": 104806216736026810}, {\"city\": null, \"timestamp\": \"2014-02-08 05:47:03\", \"state\": null, \"location\": {\"city\": null, \"state\": null, \"country\": \"CA\"}, \"country\": \"CA\", \"report_id\": 1058152356966309803}, {\"city\": null, \"timestamp\": \"2013-09-21 09:45:51\", \"state\": \"Indiana\", \"location\": {\"city\": null, \"state\": \"Indiana\", \"country\": \"US\"}, \"country\": \"US\", \"report_id\": 10480621624133745}, {\"city\": null, \"timestamp\": \"2014-01-02 06:31:02\", \"state\": \"Kentucky\", \"location\": {\"city\": null, \"state\": \"Kentucky\", \"country\": \"US\"}, \"country\": \"US\", \"report_id\": 1038748235289364641}, {\"city\": null, \"timestamp\": \"2013-05-09 13:35:12\", \"state\": \"Indiana\", \"location\": {\"city\": null, \"state\": \"Indiana\", \"country\": \"US\"}, \"country\": \"US\", \"report_id\": 1048062164329238764}, {\"city\": \"St Louis\", \"timestamp\": \"2014-01-11 14:57:02\", \"state\": \"Missouri\", \"location\": {\"city\": \"St Louis\", \"state\": \"Missouri\", \"country\": \"US\"}, \"country\": \"US\", \"report_id\": 1039806123329126368}, {\"city\": null, \"timestamp\": \"2013-05-17 22:12:23\", \"state\": \"Indiana\", \"location\": {\"city\": null, \"state\": \"Indiana\", \"country\": \"US\"}, \"country\": \"US\", \"report_id\": 1048062164574324639}, {\"city\": null, \"timestamp\": \"2013-05-30 12:00:06\", \"state\": \"Indiana\", \"location\": {\"city\": null, \"state\": \"Indiana\", \"country\": \"US\"}, \"country\": \"US\", \"report_id\": 1048062167830025071}, {\"city\": null, \"timestamp\": \"2013-05-30 12:00:06\", \"state\": \"Indiana\", \"location\": {\"city\": null, \"state\": \"Indiana\", \"country\": \"US\"}, \"country\": \"US\", \"report_id\": 1048062162432044270}, {\"city\": null, \"timestamp\": \"2013-06-04 20:26:08\", \"state\": \"Indiana\", \"location\": {\"city\": null, \"state\": \"Indiana\", \"country\": \"US\"}, \"country\": \"US\", \"report_id\": 1048062167035610310}, {\"city\": null, \"timestamp\": \"2013-06-29 17:32:27\", \"state\": \"Virginia\", \"location\": {\"city\": null, \"state\": \"Virginia\", \"country\": \"US\"}, \"country\": \"US\", \"report_id\": 1037784631178975354}, {\"city\": null, \"timestamp\": \"2013-12-15 16:08:42\", \"state\": \"Texas\", \"location\": {\"city\": null, \"state\": \"Texas\", \"country\": \"US\"}, \"country\": \"US\", \"report_id\": 1039199968318936011}, {\"city\": null, \"timestamp\": \"2013-05-08 18:33:48\", \"state\": \"Indiana\", \"location\": {\"city\": null, \"state\": \"Indiana\", \"country\": \"US\"}, \"country\": \"US\", \"report_id\": 1048062166355676219}, {\"city\": null, \"timestamp\": \"2013-05-10 00:44:13\", \"state\": \"Indiana\", \"location\": {\"city\": null, \"state\": \"Indiana\", \"country\": \"US\"}, \"country\": \"US\", \"report_id\": 1048062164776229452}, {\"city\": null, \"timestamp\": \"2013-05-08 21:48:00\", \"state\": \"Indiana\", \"location\": {\"city\": null, \"state\": \"Indiana\", \"country\": \"US\"}, \"country\": \"US\", \"report_id\": 1048062161584728767}, {\"city\": null, \"timestamp\": \"2014-02-16 23:29:02\", \"state\": \"California\", \"location\": {\"city\": null, \"state\": \"California\", \"country\": \"US\"}, \"country\": \"US\", \"report_id\": 1131697472870467462}, {\"city\": null, \"timestamp\": \"2013-06-26 14:53:29\", \"state\": \"Pennsylvania\", \"location\": {\"city\": null, \"state\": \"Pennsylvania\", \"country\": \"US\"}, \"country\": \"US\", \"report_id\": 1047172102079588986}, {\"city\": null, \"timestamp\": \"2013-06-28 13:44:25\", \"state\": \"Indiana\", \"location\": {\"city\": null, \"state\": \"Indiana\", \"country\": \"US\"}, \"country\": \"US\", \"report_id\": 1048062166109435349}, {\"city\": null, \"timestamp\": \"2014-02-10 19:16:02\", \"state\": \"Texas\", \"location\": {\"city\": null, \"state\": \"Texas\", \"country\": \"US\"}, \"country\": \"US\", \"report_id\": 1039199967166361857}, {\"city\": null, \"timestamp\": \"2013-07-19 21:01:21\", \"state\": \"District of Columbia\", \"location\": {\"city\": null, \"state\": \"District of Columbia\", \"country\": \"US\"}, \"country\": \"US\", \"report_id\": 1037878092539094057}, {\"city\": null, \"timestamp\": \"2013-05-16 19:07:17\", \"state\": \"Pennsylvania\", \"location\": {\"city\": null, \"state\": \"Pennsylvania\", \"country\": \"US\"}, \"country\": \"US\", \"report_id\": 1047172103721429223}, {\"city\": null, \"timestamp\": \"2013-05-09 13:35:12\", \"state\": \"Indiana\", \"location\": {\"city\": null, \"state\": \"Indiana\", \"country\": \"US\"}, \"country\": \"US\", \"report_id\": 1048062162605883905}, {\"city\": null, \"timestamp\": \"2014-02-03 23:42:02\", \"state\": \"Washington\", \"location\": {\"city\": null, \"state\": \"Washington\", \"country\": \"US\"}, \"country\": \"US\", \"report_id\": 1142707753989778316}, {\"city\": null, \"timestamp\": \"2013-09-10 00:56:36\", \"state\": \"California\", \"location\": {\"city\": null, \"state\": \"California\", \"country\": \"US\"}, \"country\": \"US\", \"report_id\": 1131697472655619575}, {\"city\": null, \"timestamp\": \"2014-02-10 15:29:02\", \"state\": \"Indiana\", \"location\": {\"city\": null, \"state\": \"Indiana\", \"country\": \"US\"}, \"country\": \"US\", \"report_id\": 1048062167368936115}, {\"city\": null, \"timestamp\": \"2013-09-12 21:49:35\", \"state\": \"District of Columbia\", \"location\": {\"city\": null, \"state\": \"District of Columbia\", \"country\": \"US\"}, \"country\": \"US\", \"report_id\": 1037879005598308965}, {\"city\": null, \"timestamp\": \"2013-10-08 07:01:12\", \"state\": \"Pennsylvania\", \"location\": {\"city\": null, \"state\": \"Pennsylvania\", \"country\": \"US\"}, \"country\": \"US\", \"report_id\": 1047172103420613583}, {\"city\": null, \"timestamp\": \"2013-05-09 13:35:12\", \"state\": \"Indiana\", \"location\": {\"city\": null, \"state\": \"Indiana\", \"country\": \"US\"}, \"country\": \"US\", \"report_id\": 104806216617204865}, {\"city\": null, \"timestamp\": \"2013-09-04 10:45:48\", \"state\": \"Indiana\", \"location\": {\"city\": null, \"state\": \"Indiana\", \"country\": \"US\"}, \"country\": \"US\", \"report_id\": 104806216395163559}, {\"city\": null, \"timestamp\": \"2013-05-09 22:34:01\", \"state\": \"Indiana\", \"location\": {\"city\": null, \"state\": \"Indiana\", \"country\": \"US\"}, \"country\": \"US\", \"report_id\": 1048062168355188856}, {\"city\": null, \"timestamp\": \"2013-10-06 23:08:36\", \"state\": \"Virginia\", \"location\": {\"city\": null, \"state\": \"Virginia\", \"country\": \"US\"}, \"country\": \"US\", \"report_id\": 1037784634974109031}, {\"city\": null, \"timestamp\": \"2013-05-30 12:00:06\", \"state\": \"Indiana\", \"location\": {\"city\": null, \"state\": \"Indiana\", \"country\": \"US\"}, \"country\": \"US\", \"report_id\": 1048062162555836472}, {\"city\": null, \"timestamp\": \"2013-11-19 03:15:56\", \"state\": \"Nebraska\", \"location\": {\"city\": null, \"state\": \"Nebraska\", \"country\": \"US\"}, \"country\": \"US\", \"report_id\": 1049194995835477375}, {\"city\": null, \"timestamp\": \"2013-09-11 09:14:46\", \"state\": \"Indiana\", \"location\": {\"city\": null, \"state\": \"Indiana\", \"country\": \"US\"}, \"country\": \"US\", \"report_id\": 1048062162680379793}, {\"city\": null, \"timestamp\": \"2014-02-17 19:03:02\", \"state\": \"California\", \"location\": {\"city\": null, \"state\": \"California\", \"country\": \"US\"}, \"country\": \"US\", \"report_id\": 1131697473589517851}, {\"city\": null, \"timestamp\": \"2014-02-17 09:10:01\", \"state\": \"Indiana\", \"location\": {\"city\": null, \"state\": \"Indiana\", \"country\": \"US\"}, \"country\": \"US\", \"report_id\": 104806216740612421}, {\"city\": null, \"timestamp\": \"2013-05-08 12:39:43\", \"state\": \"Indiana\", \"location\": {\"city\": null, \"state\": \"Indiana\", \"country\": \"US\"}, \"country\": \"US\", \"report_id\": 1048062166825798732}, {\"city\": null, \"timestamp\": \"2013-06-17 18:38:48\", \"state\": \"New York\", \"location\": {\"city\": null, \"state\": \"New York\", \"country\": \"US\"}, \"country\": \"US\", \"report_id\": 1047047014547152127}, {\"city\": null, \"timestamp\": \"2013-05-20 13:48:52\", \"state\": \"Indiana\", \"location\": {\"city\": null, \"state\": \"Indiana\", \"country\": \"US\"}, \"country\": \"US\", \"report_id\": 1048062166126925556}, {\"city\": null, \"timestamp\": \"2013-05-17 15:44:33\", \"state\": \"Florida\", \"location\": {\"city\": null, \"state\": \"Florida\", \"country\": \"US\"}, \"country\": \"US\", \"report_id\": 1028716564284281657}, {\"city\": null, \"timestamp\": \"2013-05-31 15:24:43\", \"state\": \"Indiana\", \"location\": {\"city\": null, \"state\": \"Indiana\", \"country\": \"US\"}, \"country\": \"US\", \"report_id\": 104806216339519884}, {\"city\": null, \"timestamp\": \"2013-09-11 19:26:11\", \"state\": \"Indiana\", \"location\": {\"city\": null, \"state\": \"Indiana\", \"country\": \"US\"}, \"country\": \"US\", \"report_id\": 1048062165451297639}, {\"city\": \"Chicago\", \"timestamp\": \"2014-02-10 09:05:02\", \"state\": \"Illinois\", \"location\": {\"city\": \"Chicago\", \"state\": \"Illinois\", \"country\": \"US\"}, \"country\": \"US\", \"report_id\": 1048178678278054861}, {\"city\": \"Bloomington\", \"timestamp\": \"2013-05-12 21:23:52\", \"state\": \"Indiana\", \"location\": {\"city\": \"Bloomington\", \"state\": \"Indiana\", \"country\": \"US\"}, \"country\": \"US\", \"report_id\": 1038961562933747861}, {\"city\": null, \"timestamp\": \"2014-02-10 19:16:02\", \"state\": \"Texas\", \"location\": {\"city\": null, \"state\": \"Texas\", \"country\": \"US\"}, \"country\": \"US\", \"report_id\": 1039199961450300162}, {\"city\": null, \"timestamp\": \"2014-01-13 10:42:02\", \"state\": \"Illinois\", \"location\": {\"city\": null, \"state\": \"Illinois\", \"country\": \"US\"}, \"country\": \"US\", \"report_id\": 1048096337247390665}, {\"city\": null, \"timestamp\": \"2013-09-03 22:50:05\", \"state\": \"Indiana\", \"location\": {\"city\": null, \"state\": \"Indiana\", \"country\": \"US\"}, \"country\": \"US\", \"report_id\": 1048062165933031439}, {\"city\": null, \"timestamp\": \"2014-03-22 12:09:01\", \"state\": \"Tennessee\", \"location\": {\"city\": null, \"state\": \"Tennessee\", \"country\": \"US\"}, \"country\": \"US\", \"report_id\": 1038565516601421239}, {\"city\": null, \"timestamp\": \"2013-09-03 19:25:51\", \"state\": \"Indiana\", \"location\": {\"city\": null, \"state\": \"Indiana\", \"country\": \"US\"}, \"country\": \"US\", \"report_id\": 1048062167328958652}, {\"city\": null, \"timestamp\": \"2013-05-10 11:09:58\", \"state\": \"Indiana\", \"location\": {\"city\": null, \"state\": \"Indiana\", \"country\": \"US\"}, \"country\": \"US\", \"report_id\": 1048062167635211390}, {\"city\": null, \"timestamp\": \"2013-06-17 20:28:31\", \"state\": \"Indiana\", \"location\": {\"city\": null, \"state\": \"Indiana\", \"country\": \"US\"}, \"country\": \"US\", \"report_id\": 1048062164061252210}, {\"city\": null, \"timestamp\": \"2013-08-29 17:16:02\", \"state\": \"Indiana\", \"location\": {\"city\": null, \"state\": \"Indiana\", \"country\": \"US\"}, \"country\": \"US\", \"report_id\": 1048062164462800340}, {\"city\": null, \"timestamp\": \"2013-05-09 01:24:20\", \"state\": \"Indiana\", \"location\": {\"city\": null, \"state\": \"Indiana\", \"country\": \"US\"}, \"country\": \"US\", \"report_id\": 104806216894597474}, {\"city\": null, \"timestamp\": \"2013-05-09 15:19:53\", \"state\": \"Indiana\", \"location\": {\"city\": null, \"state\": \"Indiana\", \"country\": \"US\"}, \"country\": \"US\", \"report_id\": 1048062165403881056}, {\"city\": null, \"timestamp\": \"2013-06-01 15:25:17\", \"state\": \"Indiana\", \"location\": {\"city\": null, \"state\": \"Indiana\", \"country\": \"US\"}, \"country\": \"US\", \"report_id\": 1048062167181050443}, {\"city\": null, \"timestamp\": \"2013-08-27 12:56:00\", \"state\": \"Massachusetts\", \"location\": {\"city\": null, \"state\": \"Massachusetts\", \"country\": \"US\"}, \"country\": \"US\", \"report_id\": 10472143092005859}, {\"city\": null, \"timestamp\": \"2013-08-31 15:43:46\", \"state\": \"Illinois\", \"location\": {\"city\": null, \"state\": \"Illinois\", \"country\": \"US\"}, \"country\": \"US\", \"report_id\": 1048096332494213968}, {\"city\": null, \"timestamp\": \"2014-02-14 23:44:02\", \"state\": \"New York\", \"location\": {\"city\": null, \"state\": \"New York\", \"country\": \"US\"}, \"country\": \"US\", \"report_id\": 1047047016303486955}, {\"city\": null, \"timestamp\": \"2013-05-08 18:33:48\", \"state\": \"Indiana\", \"location\": {\"city\": null, \"state\": \"Indiana\", \"country\": \"US\"}, \"country\": \"US\", \"report_id\": 1048062162082482661}, {\"city\": null, \"timestamp\": \"2013-08-27 12:56:00\", \"state\": \"Massachusetts\", \"location\": {\"city\": null, \"state\": \"Massachusetts\", \"country\": \"US\"}, \"country\": \"US\", \"report_id\": 1047214304106366408}, {\"city\": null, \"timestamp\": \"2013-06-15 02:52:50\", \"state\": \"Indiana\", \"location\": {\"city\": null, \"state\": \"Indiana\", \"country\": \"US\"}, \"country\": \"US\", \"report_id\": 104806216961115408}, {\"city\": null, \"timestamp\": \"2013-05-08 18:33:48\", \"state\": \"Indiana\", \"location\": {\"city\": null, \"state\": \"Indiana\", \"country\": \"US\"}, \"country\": \"US\", \"report_id\": 1048062163651201770}, {\"city\": null, \"timestamp\": \"2013-05-09 09:25:38\", \"state\": \"Indiana\", \"location\": {\"city\": null, \"state\": \"Indiana\", \"country\": \"US\"}, \"country\": \"US\", \"report_id\": 1048062165712722624}, {\"city\": null, \"timestamp\": \"2013-12-13 18:37:20\", \"state\": \"Connecticut\", \"location\": {\"city\": null, \"state\": \"Connecticut\", \"country\": \"US\"}, \"country\": \"US\", \"report_id\": 1047136004111830749}, {\"city\": null, \"timestamp\": \"2013-07-15 17:39:04\", \"state\": \"Indiana\", \"location\": {\"city\": null, \"state\": \"Indiana\", \"country\": \"US\"}, \"country\": \"US\", \"report_id\": 1048062163746298455}, {\"city\": null, \"timestamp\": \"2013-07-23 18:42:02\", \"state\": \"Indiana\", \"location\": {\"city\": null, \"state\": \"Indiana\", \"country\": \"US\"}, \"country\": \"US\", \"report_id\": 1048062162758279020}, {\"city\": null, \"timestamp\": \"2013-09-26 09:10:13\", \"state\": \"Indiana\", \"location\": {\"city\": null, \"state\": \"Indiana\", \"country\": \"US\"}, \"country\": \"US\", \"report_id\": 1048062168175512644}, {\"city\": null, \"timestamp\": \"2013-12-29 13:37:01\", \"state\": \"Texas\", \"location\": {\"city\": null, \"state\": \"Texas\", \"country\": \"US\"}, \"country\": \"US\", \"report_id\": 1039199962729403876}, {\"city\": null, \"timestamp\": \"2013-07-29 18:58:38\", \"state\": \"Indiana\", \"location\": {\"city\": null, \"state\": \"Indiana\", \"country\": \"US\"}, \"country\": \"US\", \"report_id\": 104806216591426048}, {\"city\": null, \"timestamp\": \"2013-05-31 15:24:43\", \"state\": \"Indiana\", \"location\": {\"city\": null, \"state\": \"Indiana\", \"country\": \"US\"}, \"country\": \"US\", \"report_id\": 1048062165393954579}, {\"city\": null, \"timestamp\": \"2013-12-30 12:10:02\", \"state\": \"Florida\", \"location\": {\"city\": null, \"state\": \"Florida\", \"country\": \"US\"}, \"country\": \"US\", \"report_id\": 1028716566091511327}, {\"city\": \"Vale\", \"timestamp\": \"2014-01-09 22:24:02\", \"state\": \"Oregon\", \"location\": {\"city\": \"Vale\", \"state\": \"Oregon\", \"country\": \"US\"}, \"country\": \"US\", \"report_id\": 1141379288422939431}, {\"city\": null, \"timestamp\": \"2013-05-13 12:54:55\", \"state\": \"Indiana\", \"location\": {\"city\": null, \"state\": \"Indiana\", \"country\": \"US\"}, \"country\": \"US\", \"report_id\": 1048062162057069009}, {\"city\": null, \"timestamp\": \"2013-06-30 17:23:33\", \"state\": \"Indiana\", \"location\": {\"city\": null, \"state\": \"Indiana\", \"country\": \"US\"}, \"country\": \"US\", \"report_id\": 1048062166580394426}, {\"city\": null, \"timestamp\": \"2013-11-19 03:15:56\", \"state\": \"Nebraska\", \"location\": {\"city\": null, \"state\": \"Nebraska\", \"country\": \"US\"}, \"country\": \"US\", \"report_id\": 1049194991136445062}, {\"city\": null, \"timestamp\": \"2013-05-17 22:12:23\", \"state\": \"Indiana\", \"location\": {\"city\": null, \"state\": \"Indiana\", \"country\": \"US\"}, \"country\": \"US\", \"report_id\": 1048062165913395788}, {\"city\": null, \"timestamp\": \"2013-10-24 22:32:03\", \"state\": \"New York\", \"location\": {\"city\": null, \"state\": \"New York\", \"country\": \"US\"}, \"country\": \"US\", \"report_id\": 1047047015818331500}, {\"city\": \"Seattle\", \"timestamp\": \"2014-03-03 00:12:02\", \"state\": \"Washington\", \"location\": {\"city\": \"Seattle\", \"state\": \"Washington\", \"country\": \"US\"}, \"country\": \"US\", \"report_id\": 1142726305936169706}, {\"city\": null, \"timestamp\": \"2013-05-09 15:19:53\", \"state\": \"Indiana\", \"location\": {\"city\": null, \"state\": \"Indiana\", \"country\": \"US\"}, \"country\": \"US\", \"report_id\": 104806216912626672}, {\"city\": null, \"timestamp\": \"2013-05-30 12:00:06\", \"state\": \"Indiana\", \"location\": {\"city\": null, \"state\": \"Indiana\", \"country\": \"US\"}, \"country\": \"US\", \"report_id\": 1048062166821706962}, {\"city\": null, \"timestamp\": \"2013-06-08 12:55:47\", \"state\": \"Indiana\", \"location\": {\"city\": null, \"state\": \"Indiana\", \"country\": \"US\"}, \"country\": \"US\", \"report_id\": 104806216616413804}, {\"city\": null, \"timestamp\": \"2013-05-08 18:33:48\", \"state\": \"Indiana\", \"location\": {\"city\": null, \"state\": \"Indiana\", \"country\": \"US\"}, \"country\": \"US\", \"report_id\": 104806216658921162}, {\"city\": null, \"timestamp\": \"2013-09-05 14:01:38\", \"state\": \"California\", \"location\": {\"city\": null, \"state\": \"California\", \"country\": \"US\"}, \"country\": \"US\", \"report_id\": 1131697471285109776}, {\"city\": null, \"timestamp\": \"2013-06-27 15:15:09\", \"state\": \"Indiana\", \"location\": {\"city\": null, \"state\": \"Indiana\", \"country\": \"US\"}, \"country\": \"US\", \"report_id\": 1048062166656269263}, {\"city\": null, \"timestamp\": \"2013-09-21 09:45:51\", \"state\": \"Indiana\", \"location\": {\"city\": null, \"state\": \"Indiana\", \"country\": \"US\"}, \"country\": \"US\", \"report_id\": 1048062165833614962}, {\"city\": null, \"timestamp\": \"2014-02-17 11:01:01\", \"state\": \"Texas\", \"location\": {\"city\": null, \"state\": \"Texas\", \"country\": \"US\"}, \"country\": \"US\", \"report_id\": 1039199967828777040}, {\"city\": null, \"timestamp\": \"2013-05-09 22:34:01\", \"state\": \"Indiana\", \"location\": {\"city\": null, \"state\": \"Indiana\", \"country\": \"US\"}, \"country\": \"US\", \"report_id\": 1048062164053913153}, {\"city\": null, \"timestamp\": \"2013-05-22 02:59:54\", \"state\": \"Indiana\", \"location\": {\"city\": null, \"state\": \"Indiana\", \"country\": \"US\"}, \"country\": \"US\", \"report_id\": 1048062162671559079}, {\"city\": null, \"timestamp\": \"2013-05-18 09:24:20\", \"state\": \"Indiana\", \"location\": {\"city\": null, \"state\": \"Indiana\", \"country\": \"US\"}, \"country\": \"US\", \"report_id\": 1048062163268982331}, {\"city\": null, \"timestamp\": \"2014-01-05 08:07:01\", \"state\": \"Florida\", \"location\": {\"city\": null, \"state\": \"Florida\", \"country\": \"US\"}, \"country\": \"US\", \"report_id\": 1028716568310064608}, {\"city\": null, \"timestamp\": \"2014-02-15 09:47:02\", \"state\": \"Texas\", \"location\": {\"city\": null, \"state\": \"Texas\", \"country\": \"US\"}, \"country\": \"US\", \"report_id\": 1039199962965106664}, {\"city\": null, \"timestamp\": \"2013-07-05 16:15:12\", \"state\": \"Indiana\", \"location\": {\"city\": null, \"state\": \"Indiana\", \"country\": \"US\"}, \"country\": \"US\", \"report_id\": 1048062162713056824}, {\"city\": null, \"timestamp\": \"2013-05-17 16:20:39\", \"state\": \"California\", \"location\": {\"city\": null, \"state\": \"California\", \"country\": \"US\"}, \"country\": \"US\", \"report_id\": 1131697477392487330}, {\"city\": null, \"timestamp\": \"2013-09-29 23:43:30\", \"state\": \"Indiana\", \"location\": {\"city\": null, \"state\": \"Indiana\", \"country\": \"US\"}, \"country\": \"US\", \"report_id\": 1048062167592800571}, {\"city\": null, \"timestamp\": \"2013-09-11 09:14:46\", \"state\": \"Indiana\", \"location\": {\"city\": null, \"state\": \"Indiana\", \"country\": \"US\"}, \"country\": \"US\", \"report_id\": 1048062161215453235}, {\"city\": null, \"timestamp\": \"2013-09-14 09:21:42\", \"state\": \"Indiana\", \"location\": {\"city\": null, \"state\": \"Indiana\", \"country\": \"US\"}, \"country\": \"US\", \"report_id\": 1048062161252788941}, {\"city\": null, \"timestamp\": \"2013-08-24 16:46:30\", \"state\": \"New Jersey\", \"location\": {\"city\": null, \"state\": \"New Jersey\", \"country\": \"US\"}, \"country\": \"US\", \"report_id\": 1047040454733282636}, {\"city\": null, \"timestamp\": \"2013-07-01 15:33:54\", \"state\": \"Utah\", \"location\": {\"city\": null, \"state\": \"Utah\", \"country\": \"US\"}, \"country\": \"US\", \"report_id\": 1131913028438178422}, {\"city\": null, \"timestamp\": \"2013-05-16 18:36:05\", \"state\": \"Indiana\", \"location\": {\"city\": null, \"state\": \"Indiana\", \"country\": \"US\"}, \"country\": \"US\", \"report_id\": 104806216415880554}, {\"city\": null, \"timestamp\": \"2014-03-13 21:41:01\", \"state\": \"Texas\", \"location\": {\"city\": null, \"state\": \"Texas\", \"country\": \"US\"}, \"country\": \"US\", \"report_id\": 1039199967860154719}, {\"city\": \"Chicago\", \"timestamp\": \"2014-02-10 09:05:02\", \"state\": \"Illinois\", \"location\": {\"city\": \"Chicago\", \"state\": \"Illinois\", \"country\": \"US\"}, \"country\": \"US\", \"report_id\": 1048178673373368005}, {\"city\": null, \"timestamp\": \"2013-07-06 13:49:04\", \"state\": \"Indiana\", \"location\": {\"city\": null, \"state\": \"Indiana\", \"country\": \"US\"}, \"country\": \"US\", \"report_id\": 1048062167718188396}, {\"city\": null, \"timestamp\": \"2013-05-15 22:01:02\", \"state\": \"Indiana\", \"location\": {\"city\": null, \"state\": \"Indiana\", \"country\": \"US\"}, \"country\": \"US\", \"report_id\": 1048062165770379562}, {\"city\": null, \"timestamp\": \"2013-09-01 09:54:07\", \"state\": \"Indiana\", \"location\": {\"city\": null, \"state\": \"Indiana\", \"country\": \"US\"}, \"country\": \"US\", \"report_id\": 1048062166268579993}, {\"city\": null, \"timestamp\": \"2013-06-17 18:38:48\", \"state\": \"New York\", \"location\": {\"city\": null, \"state\": \"New York\", \"country\": \"US\"}, \"country\": \"US\", \"report_id\": 1047047015952800927}, {\"city\": null, \"timestamp\": \"2013-05-09 15:19:53\", \"state\": \"Indiana\", \"location\": {\"city\": null, \"state\": \"Indiana\", \"country\": \"US\"}, \"country\": \"US\", \"report_id\": 1048062161246980866}, {\"city\": null, \"timestamp\": \"2013-05-09 01:24:20\", \"state\": \"Indiana\", \"location\": {\"city\": null, \"state\": \"Indiana\", \"country\": \"US\"}, \"country\": \"US\", \"report_id\": 1048062164237503576}, {\"city\": null, \"timestamp\": \"2013-05-09 15:19:53\", \"state\": \"Indiana\", \"location\": {\"city\": null, \"state\": \"Indiana\", \"country\": \"US\"}, \"country\": \"US\", \"report_id\": 1048062163335759725}, {\"city\": null, \"timestamp\": \"2013-05-14 13:17:13\", \"state\": \"Indiana\", \"location\": {\"city\": null, \"state\": \"Indiana\", \"country\": \"US\"}, \"country\": \"US\", \"report_id\": 1048062164514154567}, {\"city\": null, \"timestamp\": \"2013-05-10 00:44:13\", \"state\": \"Indiana\", \"location\": {\"city\": null, \"state\": \"Indiana\", \"country\": \"US\"}, \"country\": \"US\", \"report_id\": 1048062161704108822}, {\"city\": null, \"timestamp\": \"2013-08-15 18:57:58\", \"state\": \"Indiana\", \"location\": {\"city\": null, \"state\": \"Indiana\", \"country\": \"US\"}, \"country\": \"US\", \"report_id\": 1048062162171284686}, {\"city\": null, \"timestamp\": \"2013-05-08 17:40:54\", \"state\": \"Indiana\", \"location\": {\"city\": null, \"state\": \"Indiana\", \"country\": \"US\"}, \"country\": \"US\", \"report_id\": 1048062164285702813}, {\"city\": null, \"timestamp\": \"2013-09-27 00:47:31\", \"state\": \"California\", \"location\": {\"city\": null, \"state\": \"California\", \"country\": \"US\"}, \"country\": \"US\", \"report_id\": 1131697472203813560}, {\"city\": null, \"timestamp\": \"2013-12-31 09:32:01\", \"state\": \"Maryland\", \"location\": {\"city\": null, \"state\": \"Maryland\", \"country\": \"US\"}, \"country\": \"US\", \"report_id\": 1037960644463959045}, {\"city\": null, \"timestamp\": \"2014-03-20 19:10:01\", \"state\": \"Utah\", \"location\": {\"city\": null, \"state\": \"Utah\", \"country\": \"US\"}, \"country\": \"US\", \"report_id\": 1131913027758468622}, {\"city\": null, \"timestamp\": \"2014-02-15 12:11:01\", \"state\": \"Indiana\", \"location\": {\"city\": null, \"state\": \"Indiana\", \"country\": \"US\"}, \"country\": \"US\", \"report_id\": 1048062164708589359}, {\"city\": null, \"timestamp\": \"2013-09-03 22:50:05\", \"state\": \"Indiana\", \"location\": {\"city\": null, \"state\": \"Indiana\", \"country\": \"US\"}, \"country\": \"US\", \"report_id\": 1048062164842424283}, {\"city\": null, \"timestamp\": \"2013-05-10 00:44:13\", \"state\": \"Indiana\", \"location\": {\"city\": null, \"state\": \"Indiana\", \"country\": \"US\"}, \"country\": \"US\", \"report_id\": 1048062167025527777}, {\"city\": null, \"timestamp\": \"2013-06-21 15:01:45\", \"state\": null, \"location\": {\"city\": null, \"state\": null, \"country\": \"US\"}, \"country\": \"US\", \"report_id\": 1039750791551292593}, {\"city\": null, \"timestamp\": \"2013-09-11 19:26:11\", \"state\": \"Indiana\", \"location\": {\"city\": null, \"state\": \"Indiana\", \"country\": \"US\"}, \"country\": \"US\", \"report_id\": 1048062168269552152}, {\"city\": null, \"timestamp\": \"2014-02-03 23:05:02\", \"state\": \"Texas\", \"location\": {\"city\": null, \"state\": \"Texas\", \"country\": \"US\"}, \"country\": \"US\", \"report_id\": 1039199963380002377}, {\"city\": null, \"timestamp\": \"2013-07-27 06:49:19\", \"state\": \"Indiana\", \"location\": {\"city\": null, \"state\": \"Indiana\", \"country\": \"US\"}, \"country\": \"US\", \"report_id\": 1048062162921375117}, {\"city\": null, \"timestamp\": \"2013-05-09 13:35:12\", \"state\": \"Indiana\", \"location\": {\"city\": null, \"state\": \"Indiana\", \"country\": \"US\"}, \"country\": \"US\", \"report_id\": 1048062164129798559}, {\"city\": null, \"timestamp\": \"2013-10-16 01:14:50\", \"state\": \"California\", \"location\": {\"city\": null, \"state\": \"California\", \"country\": \"US\"}, \"country\": \"US\", \"report_id\": 113169747372433743}, {\"city\": null, \"timestamp\": \"2013-05-17 18:12:56\", \"state\": \"Indiana\", \"location\": {\"city\": null, \"state\": \"Indiana\", \"country\": \"US\"}, \"country\": \"US\", \"report_id\": 1048062167663154787}, {\"city\": null, \"timestamp\": \"2014-02-15 12:11:01\", \"state\": \"Indiana\", \"location\": {\"city\": null, \"state\": \"Indiana\", \"country\": \"US\"}, \"country\": \"US\", \"report_id\": 1048062167569936494}, {\"city\": null, \"timestamp\": \"2013-08-01 11:38:45\", \"state\": \"Indiana\", \"location\": {\"city\": null, \"state\": \"Indiana\", \"country\": \"US\"}, \"country\": \"US\", \"report_id\": 1048062163442109770}, {\"city\": null, \"timestamp\": \"2014-02-22 19:32:02\", \"state\": \"Michigan\", \"location\": {\"city\": null, \"state\": \"Michigan\", \"country\": \"US\"}, \"country\": \"US\", \"report_id\": 1048453618124230014}, {\"city\": null, \"timestamp\": \"2014-04-01 20:29:02\", \"state\": \"Indiana\", \"location\": {\"city\": null, \"state\": \"Indiana\", \"country\": \"US\"}, \"country\": \"US\", \"report_id\": 1048062162409377598}, {\"city\": null, \"timestamp\": \"2013-09-08 15:32:17\", \"state\": \"Indiana\", \"location\": {\"city\": null, \"state\": \"Indiana\", \"country\": \"US\"}, \"country\": \"US\", \"report_id\": 1048062163390210454}, {\"city\": null, \"timestamp\": \"2013-06-21 15:01:45\", \"state\": null, \"location\": {\"city\": null, \"state\": null, \"country\": \"US\"}, \"country\": \"US\", \"report_id\": 1039750797993046075}, {\"city\": null, \"timestamp\": \"2014-03-21 23:10:02\", \"state\": null, \"location\": {\"city\": null, \"state\": null, \"country\": \"CA\"}, \"country\": \"CA\", \"report_id\": 1058152356431399743}, {\"city\": null, \"timestamp\": \"2013-05-17 15:39:11\", \"state\": \"Wisconsin\", \"location\": {\"city\": null, \"state\": \"Wisconsin\", \"country\": \"US\"}, \"country\": \"US\", \"report_id\": 1048387781180496183}, {\"city\": null, \"timestamp\": \"2013-05-18 16:05:09\", \"state\": \"Indiana\", \"location\": {\"city\": null, \"state\": \"Indiana\", \"country\": \"US\"}, \"country\": \"US\", \"report_id\": 1048062161892606460}]}\n"
       ]
      }
     ],
     "prompt_number": 29
    },
    {
     "cell_type": "code",
     "collapsed": false,
     "input": [
      "resp_json = resp.json()\n",
      "resp_json"
     ],
     "language": "python",
     "metadata": {
      "slideshow": {
       "slide_type": "slide"
      }
     },
     "outputs": [
      {
       "metadata": {},
       "output_type": "pyout",
       "prompt_number": 30,
       "text": [
        "{u'reports': [{u'city': u'Bloomington',\n",
        "   u'country': u'US',\n",
        "   u'location': {u'city': u'Bloomington',\n",
        "    u'country': u'US',\n",
        "    u'state': u'Indiana'},\n",
        "   u'report_id': 15,\n",
        "   u'state': u'Indiana',\n",
        "   u'timestamp': u'2012-07-15 11:56:03'},\n",
        "  {u'city': u'San Francisco',\n",
        "   u'country': u'US',\n",
        "   u'location': {u'city': u'San Francisco',\n",
        "    u'country': u'US',\n",
        "    u'state': u'California'},\n",
        "   u'report_id': 65,\n",
        "   u'state': u'California',\n",
        "   u'timestamp': u'2012-07-24 11:08:31'},\n",
        "  {u'city': u'Locarno',\n",
        "   u'country': u'CH',\n",
        "   u'location': {u'city': u'Locarno', u'country': u'CH', u'state': u'Ticino'},\n",
        "   u'report_id': 345,\n",
        "   u'state': u'Ticino',\n",
        "   u'timestamp': u'2012-08-21 00:00:00'},\n",
        "  {u'city': u'Arbedo-Castione',\n",
        "   u'country': u'CH',\n",
        "   u'location': {u'city': u'Arbedo-Castione',\n",
        "    u'country': u'CH',\n",
        "    u'state': u'Ticino'},\n",
        "   u'report_id': 347,\n",
        "   u'state': u'Ticino',\n",
        "   u'timestamp': u'2012-08-21 00:00:00'},\n",
        "  {u'city': u'Mendrisio',\n",
        "   u'country': u'CH',\n",
        "   u'location': {u'city': u'Mendrisio',\n",
        "    u'country': u'CH',\n",
        "    u'state': u'Ticino'},\n",
        "   u'report_id': 354,\n",
        "   u'state': u'Ticino',\n",
        "   u'timestamp': u'2012-08-21 12:00:00'},\n",
        "  {u'city': u'Porlezza',\n",
        "   u'country': u'IT',\n",
        "   u'location': {u'city': u'Porlezza',\n",
        "    u'country': u'IT',\n",
        "    u'state': u'Lombardy'},\n",
        "   u'report_id': 358,\n",
        "   u'state': u'Lombardy',\n",
        "   u'timestamp': u'2012-08-21 12:00:00'},\n",
        "  {u'city': u'Pura',\n",
        "   u'country': u'CH',\n",
        "   u'location': {u'city': u'Pura', u'country': u'CH', u'state': u'Ticino'},\n",
        "   u'report_id': 425,\n",
        "   u'state': u'Ticino',\n",
        "   u'timestamp': u'2012-08-23 12:00:00'},\n",
        "  {u'city': u'Bloomington',\n",
        "   u'country': u'US',\n",
        "   u'location': {u'city': u'Bloomington',\n",
        "    u'country': u'US',\n",
        "    u'state': u'Indiana'},\n",
        "   u'report_id': 693,\n",
        "   u'state': u'Indiana',\n",
        "   u'timestamp': u'2012-08-31 12:00:00'},\n",
        "  {u'city': u'Philadelphia',\n",
        "   u'country': u'US',\n",
        "   u'location': {u'city': u'Philadelphia',\n",
        "    u'country': u'US',\n",
        "    u'state': u'Pennsylvania'},\n",
        "   u'report_id': 699,\n",
        "   u'state': u'Pennsylvania',\n",
        "   u'timestamp': u'2012-08-31 12:00:00'},\n",
        "  {u'city': u'Rutland',\n",
        "   u'country': u'US',\n",
        "   u'location': {u'city': u'Rutland',\n",
        "    u'country': u'US',\n",
        "    u'state': u'Massachusetts'},\n",
        "   u'report_id': 826,\n",
        "   u'state': u'Massachusetts',\n",
        "   u'timestamp': u'2012-09-05 00:00:00'},\n",
        "  {u'city': u'Bloomington',\n",
        "   u'country': u'US',\n",
        "   u'location': {u'city': u'Bloomington',\n",
        "    u'country': u'US',\n",
        "    u'state': u'Indiana'},\n",
        "   u'report_id': 827,\n",
        "   u'state': u'Indiana',\n",
        "   u'timestamp': u'2012-09-05 00:00:00'},\n",
        "  {u'city': u'Bloomington',\n",
        "   u'country': u'US',\n",
        "   u'location': {u'city': u'Bloomington',\n",
        "    u'country': u'US',\n",
        "    u'state': u'Indiana'},\n",
        "   u'report_id': 833,\n",
        "   u'state': u'Indiana',\n",
        "   u'timestamp': u'2012-09-05 12:00:00'},\n",
        "  {u'city': u'Kalamazoo Township',\n",
        "   u'country': u'US',\n",
        "   u'location': {u'city': u'Kalamazoo Township',\n",
        "    u'country': u'US',\n",
        "    u'state': u'Michigan'},\n",
        "   u'report_id': 866,\n",
        "   u'state': u'Michigan',\n",
        "   u'timestamp': u'2012-09-05 12:00:00'},\n",
        "  {u'city': u'St Louis',\n",
        "   u'country': u'US',\n",
        "   u'location': {u'city': u'St Louis',\n",
        "    u'country': u'US',\n",
        "    u'state': u'Missouri'},\n",
        "   u'report_id': 875,\n",
        "   u'state': u'Missouri',\n",
        "   u'timestamp': u'2012-09-05 12:00:00'},\n",
        "  {u'city': u'Bedford',\n",
        "   u'country': u'US',\n",
        "   u'location': {u'city': u'Bedford', u'country': u'US', u'state': u'Texas'},\n",
        "   u'report_id': 927,\n",
        "   u'state': u'Texas',\n",
        "   u'timestamp': u'2012-09-05 12:00:00'},\n",
        "  {u'city': u'Auburn',\n",
        "   u'country': u'US',\n",
        "   u'location': {u'city': u'Auburn', u'country': u'US', u'state': u'Alabama'},\n",
        "   u'report_id': 960,\n",
        "   u'state': u'Alabama',\n",
        "   u'timestamp': u'2012-09-05 12:00:00'},\n",
        "  {u'city': u'Bellevue',\n",
        "   u'country': u'US',\n",
        "   u'location': {u'city': u'Bellevue',\n",
        "    u'country': u'US',\n",
        "    u'state': u'Washington'},\n",
        "   u'report_id': 1013,\n",
        "   u'state': u'Washington',\n",
        "   u'timestamp': u'2012-09-05 12:00:00'},\n",
        "  {u'city': u'Bloomington',\n",
        "   u'country': u'US',\n",
        "   u'location': {u'city': u'Bloomington',\n",
        "    u'country': u'US',\n",
        "    u'state': u'Indiana'},\n",
        "   u'report_id': 1025,\n",
        "   u'state': u'Indiana',\n",
        "   u'timestamp': u'2012-09-06 00:00:00'},\n",
        "  {u'city': None,\n",
        "   u'country': u'US',\n",
        "   u'location': {u'city': None, u'country': u'US', u'state': u'Wisconsin'},\n",
        "   u'report_id': 1048387784344729510,\n",
        "   u'state': u'Wisconsin',\n",
        "   u'timestamp': u'2013-08-26 00:08:13'},\n",
        "  {u'city': None,\n",
        "   u'country': u'US',\n",
        "   u'location': {u'city': None, u'country': u'US', u'state': u'Indiana'},\n",
        "   u'report_id': 104806216736026810,\n",
        "   u'state': u'Indiana',\n",
        "   u'timestamp': u'2014-02-10 15:29:02'},\n",
        "  {u'city': None,\n",
        "   u'country': u'CA',\n",
        "   u'location': {u'city': None, u'country': u'CA', u'state': None},\n",
        "   u'report_id': 1058152356966309803,\n",
        "   u'state': None,\n",
        "   u'timestamp': u'2014-02-08 05:47:03'},\n",
        "  {u'city': None,\n",
        "   u'country': u'US',\n",
        "   u'location': {u'city': None, u'country': u'US', u'state': u'Indiana'},\n",
        "   u'report_id': 10480621624133745,\n",
        "   u'state': u'Indiana',\n",
        "   u'timestamp': u'2013-09-21 09:45:51'},\n",
        "  {u'city': None,\n",
        "   u'country': u'US',\n",
        "   u'location': {u'city': None, u'country': u'US', u'state': u'Kentucky'},\n",
        "   u'report_id': 1038748235289364641,\n",
        "   u'state': u'Kentucky',\n",
        "   u'timestamp': u'2014-01-02 06:31:02'},\n",
        "  {u'city': None,\n",
        "   u'country': u'US',\n",
        "   u'location': {u'city': None, u'country': u'US', u'state': u'Indiana'},\n",
        "   u'report_id': 1048062164329238764,\n",
        "   u'state': u'Indiana',\n",
        "   u'timestamp': u'2013-05-09 13:35:12'},\n",
        "  {u'city': u'St Louis',\n",
        "   u'country': u'US',\n",
        "   u'location': {u'city': u'St Louis',\n",
        "    u'country': u'US',\n",
        "    u'state': u'Missouri'},\n",
        "   u'report_id': 1039806123329126368,\n",
        "   u'state': u'Missouri',\n",
        "   u'timestamp': u'2014-01-11 14:57:02'},\n",
        "  {u'city': None,\n",
        "   u'country': u'US',\n",
        "   u'location': {u'city': None, u'country': u'US', u'state': u'Indiana'},\n",
        "   u'report_id': 1048062164574324639,\n",
        "   u'state': u'Indiana',\n",
        "   u'timestamp': u'2013-05-17 22:12:23'},\n",
        "  {u'city': None,\n",
        "   u'country': u'US',\n",
        "   u'location': {u'city': None, u'country': u'US', u'state': u'Indiana'},\n",
        "   u'report_id': 1048062167830025071,\n",
        "   u'state': u'Indiana',\n",
        "   u'timestamp': u'2013-05-30 12:00:06'},\n",
        "  {u'city': None,\n",
        "   u'country': u'US',\n",
        "   u'location': {u'city': None, u'country': u'US', u'state': u'Indiana'},\n",
        "   u'report_id': 1048062162432044270,\n",
        "   u'state': u'Indiana',\n",
        "   u'timestamp': u'2013-05-30 12:00:06'},\n",
        "  {u'city': None,\n",
        "   u'country': u'US',\n",
        "   u'location': {u'city': None, u'country': u'US', u'state': u'Indiana'},\n",
        "   u'report_id': 1048062167035610310,\n",
        "   u'state': u'Indiana',\n",
        "   u'timestamp': u'2013-06-04 20:26:08'},\n",
        "  {u'city': None,\n",
        "   u'country': u'US',\n",
        "   u'location': {u'city': None, u'country': u'US', u'state': u'Virginia'},\n",
        "   u'report_id': 1037784631178975354,\n",
        "   u'state': u'Virginia',\n",
        "   u'timestamp': u'2013-06-29 17:32:27'},\n",
        "  {u'city': None,\n",
        "   u'country': u'US',\n",
        "   u'location': {u'city': None, u'country': u'US', u'state': u'Texas'},\n",
        "   u'report_id': 1039199968318936011,\n",
        "   u'state': u'Texas',\n",
        "   u'timestamp': u'2013-12-15 16:08:42'},\n",
        "  {u'city': None,\n",
        "   u'country': u'US',\n",
        "   u'location': {u'city': None, u'country': u'US', u'state': u'Indiana'},\n",
        "   u'report_id': 1048062166355676219,\n",
        "   u'state': u'Indiana',\n",
        "   u'timestamp': u'2013-05-08 18:33:48'},\n",
        "  {u'city': None,\n",
        "   u'country': u'US',\n",
        "   u'location': {u'city': None, u'country': u'US', u'state': u'Indiana'},\n",
        "   u'report_id': 1048062164776229452,\n",
        "   u'state': u'Indiana',\n",
        "   u'timestamp': u'2013-05-10 00:44:13'},\n",
        "  {u'city': None,\n",
        "   u'country': u'US',\n",
        "   u'location': {u'city': None, u'country': u'US', u'state': u'Indiana'},\n",
        "   u'report_id': 1048062161584728767,\n",
        "   u'state': u'Indiana',\n",
        "   u'timestamp': u'2013-05-08 21:48:00'},\n",
        "  {u'city': None,\n",
        "   u'country': u'US',\n",
        "   u'location': {u'city': None, u'country': u'US', u'state': u'California'},\n",
        "   u'report_id': 1131697472870467462,\n",
        "   u'state': u'California',\n",
        "   u'timestamp': u'2014-02-16 23:29:02'},\n",
        "  {u'city': None,\n",
        "   u'country': u'US',\n",
        "   u'location': {u'city': None, u'country': u'US', u'state': u'Pennsylvania'},\n",
        "   u'report_id': 1047172102079588986,\n",
        "   u'state': u'Pennsylvania',\n",
        "   u'timestamp': u'2013-06-26 14:53:29'},\n",
        "  {u'city': None,\n",
        "   u'country': u'US',\n",
        "   u'location': {u'city': None, u'country': u'US', u'state': u'Indiana'},\n",
        "   u'report_id': 1048062166109435349,\n",
        "   u'state': u'Indiana',\n",
        "   u'timestamp': u'2013-06-28 13:44:25'},\n",
        "  {u'city': None,\n",
        "   u'country': u'US',\n",
        "   u'location': {u'city': None, u'country': u'US', u'state': u'Texas'},\n",
        "   u'report_id': 1039199967166361857,\n",
        "   u'state': u'Texas',\n",
        "   u'timestamp': u'2014-02-10 19:16:02'},\n",
        "  {u'city': None,\n",
        "   u'country': u'US',\n",
        "   u'location': {u'city': None,\n",
        "    u'country': u'US',\n",
        "    u'state': u'District of Columbia'},\n",
        "   u'report_id': 1037878092539094057,\n",
        "   u'state': u'District of Columbia',\n",
        "   u'timestamp': u'2013-07-19 21:01:21'},\n",
        "  {u'city': None,\n",
        "   u'country': u'US',\n",
        "   u'location': {u'city': None, u'country': u'US', u'state': u'Pennsylvania'},\n",
        "   u'report_id': 1047172103721429223,\n",
        "   u'state': u'Pennsylvania',\n",
        "   u'timestamp': u'2013-05-16 19:07:17'},\n",
        "  {u'city': None,\n",
        "   u'country': u'US',\n",
        "   u'location': {u'city': None, u'country': u'US', u'state': u'Indiana'},\n",
        "   u'report_id': 1048062162605883905,\n",
        "   u'state': u'Indiana',\n",
        "   u'timestamp': u'2013-05-09 13:35:12'},\n",
        "  {u'city': None,\n",
        "   u'country': u'US',\n",
        "   u'location': {u'city': None, u'country': u'US', u'state': u'Washington'},\n",
        "   u'report_id': 1142707753989778316,\n",
        "   u'state': u'Washington',\n",
        "   u'timestamp': u'2014-02-03 23:42:02'},\n",
        "  {u'city': None,\n",
        "   u'country': u'US',\n",
        "   u'location': {u'city': None, u'country': u'US', u'state': u'California'},\n",
        "   u'report_id': 1131697472655619575,\n",
        "   u'state': u'California',\n",
        "   u'timestamp': u'2013-09-10 00:56:36'},\n",
        "  {u'city': None,\n",
        "   u'country': u'US',\n",
        "   u'location': {u'city': None, u'country': u'US', u'state': u'Indiana'},\n",
        "   u'report_id': 1048062167368936115,\n",
        "   u'state': u'Indiana',\n",
        "   u'timestamp': u'2014-02-10 15:29:02'},\n",
        "  {u'city': None,\n",
        "   u'country': u'US',\n",
        "   u'location': {u'city': None,\n",
        "    u'country': u'US',\n",
        "    u'state': u'District of Columbia'},\n",
        "   u'report_id': 1037879005598308965,\n",
        "   u'state': u'District of Columbia',\n",
        "   u'timestamp': u'2013-09-12 21:49:35'},\n",
        "  {u'city': None,\n",
        "   u'country': u'US',\n",
        "   u'location': {u'city': None, u'country': u'US', u'state': u'Pennsylvania'},\n",
        "   u'report_id': 1047172103420613583,\n",
        "   u'state': u'Pennsylvania',\n",
        "   u'timestamp': u'2013-10-08 07:01:12'},\n",
        "  {u'city': None,\n",
        "   u'country': u'US',\n",
        "   u'location': {u'city': None, u'country': u'US', u'state': u'Indiana'},\n",
        "   u'report_id': 104806216617204865,\n",
        "   u'state': u'Indiana',\n",
        "   u'timestamp': u'2013-05-09 13:35:12'},\n",
        "  {u'city': None,\n",
        "   u'country': u'US',\n",
        "   u'location': {u'city': None, u'country': u'US', u'state': u'Indiana'},\n",
        "   u'report_id': 104806216395163559,\n",
        "   u'state': u'Indiana',\n",
        "   u'timestamp': u'2013-09-04 10:45:48'},\n",
        "  {u'city': None,\n",
        "   u'country': u'US',\n",
        "   u'location': {u'city': None, u'country': u'US', u'state': u'Indiana'},\n",
        "   u'report_id': 1048062168355188856,\n",
        "   u'state': u'Indiana',\n",
        "   u'timestamp': u'2013-05-09 22:34:01'},\n",
        "  {u'city': None,\n",
        "   u'country': u'US',\n",
        "   u'location': {u'city': None, u'country': u'US', u'state': u'Virginia'},\n",
        "   u'report_id': 1037784634974109031,\n",
        "   u'state': u'Virginia',\n",
        "   u'timestamp': u'2013-10-06 23:08:36'},\n",
        "  {u'city': None,\n",
        "   u'country': u'US',\n",
        "   u'location': {u'city': None, u'country': u'US', u'state': u'Indiana'},\n",
        "   u'report_id': 1048062162555836472,\n",
        "   u'state': u'Indiana',\n",
        "   u'timestamp': u'2013-05-30 12:00:06'},\n",
        "  {u'city': None,\n",
        "   u'country': u'US',\n",
        "   u'location': {u'city': None, u'country': u'US', u'state': u'Nebraska'},\n",
        "   u'report_id': 1049194995835477375,\n",
        "   u'state': u'Nebraska',\n",
        "   u'timestamp': u'2013-11-19 03:15:56'},\n",
        "  {u'city': None,\n",
        "   u'country': u'US',\n",
        "   u'location': {u'city': None, u'country': u'US', u'state': u'Indiana'},\n",
        "   u'report_id': 1048062162680379793,\n",
        "   u'state': u'Indiana',\n",
        "   u'timestamp': u'2013-09-11 09:14:46'},\n",
        "  {u'city': None,\n",
        "   u'country': u'US',\n",
        "   u'location': {u'city': None, u'country': u'US', u'state': u'California'},\n",
        "   u'report_id': 1131697473589517851,\n",
        "   u'state': u'California',\n",
        "   u'timestamp': u'2014-02-17 19:03:02'},\n",
        "  {u'city': None,\n",
        "   u'country': u'US',\n",
        "   u'location': {u'city': None, u'country': u'US', u'state': u'Indiana'},\n",
        "   u'report_id': 104806216740612421,\n",
        "   u'state': u'Indiana',\n",
        "   u'timestamp': u'2014-02-17 09:10:01'},\n",
        "  {u'city': None,\n",
        "   u'country': u'US',\n",
        "   u'location': {u'city': None, u'country': u'US', u'state': u'Indiana'},\n",
        "   u'report_id': 1048062166825798732,\n",
        "   u'state': u'Indiana',\n",
        "   u'timestamp': u'2013-05-08 12:39:43'},\n",
        "  {u'city': None,\n",
        "   u'country': u'US',\n",
        "   u'location': {u'city': None, u'country': u'US', u'state': u'New York'},\n",
        "   u'report_id': 1047047014547152127,\n",
        "   u'state': u'New York',\n",
        "   u'timestamp': u'2013-06-17 18:38:48'},\n",
        "  {u'city': None,\n",
        "   u'country': u'US',\n",
        "   u'location': {u'city': None, u'country': u'US', u'state': u'Indiana'},\n",
        "   u'report_id': 1048062166126925556,\n",
        "   u'state': u'Indiana',\n",
        "   u'timestamp': u'2013-05-20 13:48:52'},\n",
        "  {u'city': None,\n",
        "   u'country': u'US',\n",
        "   u'location': {u'city': None, u'country': u'US', u'state': u'Florida'},\n",
        "   u'report_id': 1028716564284281657,\n",
        "   u'state': u'Florida',\n",
        "   u'timestamp': u'2013-05-17 15:44:33'},\n",
        "  {u'city': None,\n",
        "   u'country': u'US',\n",
        "   u'location': {u'city': None, u'country': u'US', u'state': u'Indiana'},\n",
        "   u'report_id': 104806216339519884,\n",
        "   u'state': u'Indiana',\n",
        "   u'timestamp': u'2013-05-31 15:24:43'},\n",
        "  {u'city': None,\n",
        "   u'country': u'US',\n",
        "   u'location': {u'city': None, u'country': u'US', u'state': u'Indiana'},\n",
        "   u'report_id': 1048062165451297639,\n",
        "   u'state': u'Indiana',\n",
        "   u'timestamp': u'2013-09-11 19:26:11'},\n",
        "  {u'city': u'Chicago',\n",
        "   u'country': u'US',\n",
        "   u'location': {u'city': u'Chicago',\n",
        "    u'country': u'US',\n",
        "    u'state': u'Illinois'},\n",
        "   u'report_id': 1048178678278054861,\n",
        "   u'state': u'Illinois',\n",
        "   u'timestamp': u'2014-02-10 09:05:02'},\n",
        "  {u'city': u'Bloomington',\n",
        "   u'country': u'US',\n",
        "   u'location': {u'city': u'Bloomington',\n",
        "    u'country': u'US',\n",
        "    u'state': u'Indiana'},\n",
        "   u'report_id': 1038961562933747861,\n",
        "   u'state': u'Indiana',\n",
        "   u'timestamp': u'2013-05-12 21:23:52'},\n",
        "  {u'city': None,\n",
        "   u'country': u'US',\n",
        "   u'location': {u'city': None, u'country': u'US', u'state': u'Texas'},\n",
        "   u'report_id': 1039199961450300162,\n",
        "   u'state': u'Texas',\n",
        "   u'timestamp': u'2014-02-10 19:16:02'},\n",
        "  {u'city': None,\n",
        "   u'country': u'US',\n",
        "   u'location': {u'city': None, u'country': u'US', u'state': u'Illinois'},\n",
        "   u'report_id': 1048096337247390665,\n",
        "   u'state': u'Illinois',\n",
        "   u'timestamp': u'2014-01-13 10:42:02'},\n",
        "  {u'city': None,\n",
        "   u'country': u'US',\n",
        "   u'location': {u'city': None, u'country': u'US', u'state': u'Indiana'},\n",
        "   u'report_id': 1048062165933031439,\n",
        "   u'state': u'Indiana',\n",
        "   u'timestamp': u'2013-09-03 22:50:05'},\n",
        "  {u'city': None,\n",
        "   u'country': u'US',\n",
        "   u'location': {u'city': None, u'country': u'US', u'state': u'Tennessee'},\n",
        "   u'report_id': 1038565516601421239,\n",
        "   u'state': u'Tennessee',\n",
        "   u'timestamp': u'2014-03-22 12:09:01'},\n",
        "  {u'city': None,\n",
        "   u'country': u'US',\n",
        "   u'location': {u'city': None, u'country': u'US', u'state': u'Indiana'},\n",
        "   u'report_id': 1048062167328958652,\n",
        "   u'state': u'Indiana',\n",
        "   u'timestamp': u'2013-09-03 19:25:51'},\n",
        "  {u'city': None,\n",
        "   u'country': u'US',\n",
        "   u'location': {u'city': None, u'country': u'US', u'state': u'Indiana'},\n",
        "   u'report_id': 1048062167635211390,\n",
        "   u'state': u'Indiana',\n",
        "   u'timestamp': u'2013-05-10 11:09:58'},\n",
        "  {u'city': None,\n",
        "   u'country': u'US',\n",
        "   u'location': {u'city': None, u'country': u'US', u'state': u'Indiana'},\n",
        "   u'report_id': 1048062164061252210,\n",
        "   u'state': u'Indiana',\n",
        "   u'timestamp': u'2013-06-17 20:28:31'},\n",
        "  {u'city': None,\n",
        "   u'country': u'US',\n",
        "   u'location': {u'city': None, u'country': u'US', u'state': u'Indiana'},\n",
        "   u'report_id': 1048062164462800340,\n",
        "   u'state': u'Indiana',\n",
        "   u'timestamp': u'2013-08-29 17:16:02'},\n",
        "  {u'city': None,\n",
        "   u'country': u'US',\n",
        "   u'location': {u'city': None, u'country': u'US', u'state': u'Indiana'},\n",
        "   u'report_id': 104806216894597474,\n",
        "   u'state': u'Indiana',\n",
        "   u'timestamp': u'2013-05-09 01:24:20'},\n",
        "  {u'city': None,\n",
        "   u'country': u'US',\n",
        "   u'location': {u'city': None, u'country': u'US', u'state': u'Indiana'},\n",
        "   u'report_id': 1048062165403881056,\n",
        "   u'state': u'Indiana',\n",
        "   u'timestamp': u'2013-05-09 15:19:53'},\n",
        "  {u'city': None,\n",
        "   u'country': u'US',\n",
        "   u'location': {u'city': None, u'country': u'US', u'state': u'Indiana'},\n",
        "   u'report_id': 1048062167181050443,\n",
        "   u'state': u'Indiana',\n",
        "   u'timestamp': u'2013-06-01 15:25:17'},\n",
        "  {u'city': None,\n",
        "   u'country': u'US',\n",
        "   u'location': {u'city': None, u'country': u'US', u'state': u'Massachusetts'},\n",
        "   u'report_id': 10472143092005859,\n",
        "   u'state': u'Massachusetts',\n",
        "   u'timestamp': u'2013-08-27 12:56:00'},\n",
        "  {u'city': None,\n",
        "   u'country': u'US',\n",
        "   u'location': {u'city': None, u'country': u'US', u'state': u'Illinois'},\n",
        "   u'report_id': 1048096332494213968,\n",
        "   u'state': u'Illinois',\n",
        "   u'timestamp': u'2013-08-31 15:43:46'},\n",
        "  {u'city': None,\n",
        "   u'country': u'US',\n",
        "   u'location': {u'city': None, u'country': u'US', u'state': u'New York'},\n",
        "   u'report_id': 1047047016303486955,\n",
        "   u'state': u'New York',\n",
        "   u'timestamp': u'2014-02-14 23:44:02'},\n",
        "  {u'city': None,\n",
        "   u'country': u'US',\n",
        "   u'location': {u'city': None, u'country': u'US', u'state': u'Indiana'},\n",
        "   u'report_id': 1048062162082482661,\n",
        "   u'state': u'Indiana',\n",
        "   u'timestamp': u'2013-05-08 18:33:48'},\n",
        "  {u'city': None,\n",
        "   u'country': u'US',\n",
        "   u'location': {u'city': None, u'country': u'US', u'state': u'Massachusetts'},\n",
        "   u'report_id': 1047214304106366408,\n",
        "   u'state': u'Massachusetts',\n",
        "   u'timestamp': u'2013-08-27 12:56:00'},\n",
        "  {u'city': None,\n",
        "   u'country': u'US',\n",
        "   u'location': {u'city': None, u'country': u'US', u'state': u'Indiana'},\n",
        "   u'report_id': 104806216961115408,\n",
        "   u'state': u'Indiana',\n",
        "   u'timestamp': u'2013-06-15 02:52:50'},\n",
        "  {u'city': None,\n",
        "   u'country': u'US',\n",
        "   u'location': {u'city': None, u'country': u'US', u'state': u'Indiana'},\n",
        "   u'report_id': 1048062163651201770,\n",
        "   u'state': u'Indiana',\n",
        "   u'timestamp': u'2013-05-08 18:33:48'},\n",
        "  {u'city': None,\n",
        "   u'country': u'US',\n",
        "   u'location': {u'city': None, u'country': u'US', u'state': u'Indiana'},\n",
        "   u'report_id': 1048062165712722624,\n",
        "   u'state': u'Indiana',\n",
        "   u'timestamp': u'2013-05-09 09:25:38'},\n",
        "  {u'city': None,\n",
        "   u'country': u'US',\n",
        "   u'location': {u'city': None, u'country': u'US', u'state': u'Connecticut'},\n",
        "   u'report_id': 1047136004111830749,\n",
        "   u'state': u'Connecticut',\n",
        "   u'timestamp': u'2013-12-13 18:37:20'},\n",
        "  {u'city': None,\n",
        "   u'country': u'US',\n",
        "   u'location': {u'city': None, u'country': u'US', u'state': u'Indiana'},\n",
        "   u'report_id': 1048062163746298455,\n",
        "   u'state': u'Indiana',\n",
        "   u'timestamp': u'2013-07-15 17:39:04'},\n",
        "  {u'city': None,\n",
        "   u'country': u'US',\n",
        "   u'location': {u'city': None, u'country': u'US', u'state': u'Indiana'},\n",
        "   u'report_id': 1048062162758279020,\n",
        "   u'state': u'Indiana',\n",
        "   u'timestamp': u'2013-07-23 18:42:02'},\n",
        "  {u'city': None,\n",
        "   u'country': u'US',\n",
        "   u'location': {u'city': None, u'country': u'US', u'state': u'Indiana'},\n",
        "   u'report_id': 1048062168175512644,\n",
        "   u'state': u'Indiana',\n",
        "   u'timestamp': u'2013-09-26 09:10:13'},\n",
        "  {u'city': None,\n",
        "   u'country': u'US',\n",
        "   u'location': {u'city': None, u'country': u'US', u'state': u'Texas'},\n",
        "   u'report_id': 1039199962729403876,\n",
        "   u'state': u'Texas',\n",
        "   u'timestamp': u'2013-12-29 13:37:01'},\n",
        "  {u'city': None,\n",
        "   u'country': u'US',\n",
        "   u'location': {u'city': None, u'country': u'US', u'state': u'Indiana'},\n",
        "   u'report_id': 104806216591426048,\n",
        "   u'state': u'Indiana',\n",
        "   u'timestamp': u'2013-07-29 18:58:38'},\n",
        "  {u'city': None,\n",
        "   u'country': u'US',\n",
        "   u'location': {u'city': None, u'country': u'US', u'state': u'Indiana'},\n",
        "   u'report_id': 1048062165393954579,\n",
        "   u'state': u'Indiana',\n",
        "   u'timestamp': u'2013-05-31 15:24:43'},\n",
        "  {u'city': None,\n",
        "   u'country': u'US',\n",
        "   u'location': {u'city': None, u'country': u'US', u'state': u'Florida'},\n",
        "   u'report_id': 1028716566091511327,\n",
        "   u'state': u'Florida',\n",
        "   u'timestamp': u'2013-12-30 12:10:02'},\n",
        "  {u'city': u'Vale',\n",
        "   u'country': u'US',\n",
        "   u'location': {u'city': u'Vale', u'country': u'US', u'state': u'Oregon'},\n",
        "   u'report_id': 1141379288422939431,\n",
        "   u'state': u'Oregon',\n",
        "   u'timestamp': u'2014-01-09 22:24:02'},\n",
        "  {u'city': None,\n",
        "   u'country': u'US',\n",
        "   u'location': {u'city': None, u'country': u'US', u'state': u'Indiana'},\n",
        "   u'report_id': 1048062162057069009,\n",
        "   u'state': u'Indiana',\n",
        "   u'timestamp': u'2013-05-13 12:54:55'},\n",
        "  {u'city': None,\n",
        "   u'country': u'US',\n",
        "   u'location': {u'city': None, u'country': u'US', u'state': u'Indiana'},\n",
        "   u'report_id': 1048062166580394426,\n",
        "   u'state': u'Indiana',\n",
        "   u'timestamp': u'2013-06-30 17:23:33'},\n",
        "  {u'city': None,\n",
        "   u'country': u'US',\n",
        "   u'location': {u'city': None, u'country': u'US', u'state': u'Nebraska'},\n",
        "   u'report_id': 1049194991136445062,\n",
        "   u'state': u'Nebraska',\n",
        "   u'timestamp': u'2013-11-19 03:15:56'},\n",
        "  {u'city': None,\n",
        "   u'country': u'US',\n",
        "   u'location': {u'city': None, u'country': u'US', u'state': u'Indiana'},\n",
        "   u'report_id': 1048062165913395788,\n",
        "   u'state': u'Indiana',\n",
        "   u'timestamp': u'2013-05-17 22:12:23'},\n",
        "  {u'city': None,\n",
        "   u'country': u'US',\n",
        "   u'location': {u'city': None, u'country': u'US', u'state': u'New York'},\n",
        "   u'report_id': 1047047015818331500,\n",
        "   u'state': u'New York',\n",
        "   u'timestamp': u'2013-10-24 22:32:03'},\n",
        "  {u'city': u'Seattle',\n",
        "   u'country': u'US',\n",
        "   u'location': {u'city': u'Seattle',\n",
        "    u'country': u'US',\n",
        "    u'state': u'Washington'},\n",
        "   u'report_id': 1142726305936169706,\n",
        "   u'state': u'Washington',\n",
        "   u'timestamp': u'2014-03-03 00:12:02'},\n",
        "  {u'city': None,\n",
        "   u'country': u'US',\n",
        "   u'location': {u'city': None, u'country': u'US', u'state': u'Indiana'},\n",
        "   u'report_id': 104806216912626672,\n",
        "   u'state': u'Indiana',\n",
        "   u'timestamp': u'2013-05-09 15:19:53'},\n",
        "  {u'city': None,\n",
        "   u'country': u'US',\n",
        "   u'location': {u'city': None, u'country': u'US', u'state': u'Indiana'},\n",
        "   u'report_id': 1048062166821706962,\n",
        "   u'state': u'Indiana',\n",
        "   u'timestamp': u'2013-05-30 12:00:06'},\n",
        "  {u'city': None,\n",
        "   u'country': u'US',\n",
        "   u'location': {u'city': None, u'country': u'US', u'state': u'Indiana'},\n",
        "   u'report_id': 104806216616413804,\n",
        "   u'state': u'Indiana',\n",
        "   u'timestamp': u'2013-06-08 12:55:47'},\n",
        "  {u'city': None,\n",
        "   u'country': u'US',\n",
        "   u'location': {u'city': None, u'country': u'US', u'state': u'Indiana'},\n",
        "   u'report_id': 104806216658921162,\n",
        "   u'state': u'Indiana',\n",
        "   u'timestamp': u'2013-05-08 18:33:48'},\n",
        "  {u'city': None,\n",
        "   u'country': u'US',\n",
        "   u'location': {u'city': None, u'country': u'US', u'state': u'California'},\n",
        "   u'report_id': 1131697471285109776,\n",
        "   u'state': u'California',\n",
        "   u'timestamp': u'2013-09-05 14:01:38'},\n",
        "  {u'city': None,\n",
        "   u'country': u'US',\n",
        "   u'location': {u'city': None, u'country': u'US', u'state': u'Indiana'},\n",
        "   u'report_id': 1048062166656269263,\n",
        "   u'state': u'Indiana',\n",
        "   u'timestamp': u'2013-06-27 15:15:09'},\n",
        "  {u'city': None,\n",
        "   u'country': u'US',\n",
        "   u'location': {u'city': None, u'country': u'US', u'state': u'Indiana'},\n",
        "   u'report_id': 1048062165833614962,\n",
        "   u'state': u'Indiana',\n",
        "   u'timestamp': u'2013-09-21 09:45:51'},\n",
        "  {u'city': None,\n",
        "   u'country': u'US',\n",
        "   u'location': {u'city': None, u'country': u'US', u'state': u'Texas'},\n",
        "   u'report_id': 1039199967828777040,\n",
        "   u'state': u'Texas',\n",
        "   u'timestamp': u'2014-02-17 11:01:01'},\n",
        "  {u'city': None,\n",
        "   u'country': u'US',\n",
        "   u'location': {u'city': None, u'country': u'US', u'state': u'Indiana'},\n",
        "   u'report_id': 1048062164053913153,\n",
        "   u'state': u'Indiana',\n",
        "   u'timestamp': u'2013-05-09 22:34:01'},\n",
        "  {u'city': None,\n",
        "   u'country': u'US',\n",
        "   u'location': {u'city': None, u'country': u'US', u'state': u'Indiana'},\n",
        "   u'report_id': 1048062162671559079,\n",
        "   u'state': u'Indiana',\n",
        "   u'timestamp': u'2013-05-22 02:59:54'},\n",
        "  {u'city': None,\n",
        "   u'country': u'US',\n",
        "   u'location': {u'city': None, u'country': u'US', u'state': u'Indiana'},\n",
        "   u'report_id': 1048062163268982331,\n",
        "   u'state': u'Indiana',\n",
        "   u'timestamp': u'2013-05-18 09:24:20'},\n",
        "  {u'city': None,\n",
        "   u'country': u'US',\n",
        "   u'location': {u'city': None, u'country': u'US', u'state': u'Florida'},\n",
        "   u'report_id': 1028716568310064608,\n",
        "   u'state': u'Florida',\n",
        "   u'timestamp': u'2014-01-05 08:07:01'},\n",
        "  {u'city': None,\n",
        "   u'country': u'US',\n",
        "   u'location': {u'city': None, u'country': u'US', u'state': u'Texas'},\n",
        "   u'report_id': 1039199962965106664,\n",
        "   u'state': u'Texas',\n",
        "   u'timestamp': u'2014-02-15 09:47:02'},\n",
        "  {u'city': None,\n",
        "   u'country': u'US',\n",
        "   u'location': {u'city': None, u'country': u'US', u'state': u'Indiana'},\n",
        "   u'report_id': 1048062162713056824,\n",
        "   u'state': u'Indiana',\n",
        "   u'timestamp': u'2013-07-05 16:15:12'},\n",
        "  {u'city': None,\n",
        "   u'country': u'US',\n",
        "   u'location': {u'city': None, u'country': u'US', u'state': u'California'},\n",
        "   u'report_id': 1131697477392487330,\n",
        "   u'state': u'California',\n",
        "   u'timestamp': u'2013-05-17 16:20:39'},\n",
        "  {u'city': None,\n",
        "   u'country': u'US',\n",
        "   u'location': {u'city': None, u'country': u'US', u'state': u'Indiana'},\n",
        "   u'report_id': 1048062167592800571,\n",
        "   u'state': u'Indiana',\n",
        "   u'timestamp': u'2013-09-29 23:43:30'},\n",
        "  {u'city': None,\n",
        "   u'country': u'US',\n",
        "   u'location': {u'city': None, u'country': u'US', u'state': u'Indiana'},\n",
        "   u'report_id': 1048062161215453235,\n",
        "   u'state': u'Indiana',\n",
        "   u'timestamp': u'2013-09-11 09:14:46'},\n",
        "  {u'city': None,\n",
        "   u'country': u'US',\n",
        "   u'location': {u'city': None, u'country': u'US', u'state': u'Indiana'},\n",
        "   u'report_id': 1048062161252788941,\n",
        "   u'state': u'Indiana',\n",
        "   u'timestamp': u'2013-09-14 09:21:42'},\n",
        "  {u'city': None,\n",
        "   u'country': u'US',\n",
        "   u'location': {u'city': None, u'country': u'US', u'state': u'New Jersey'},\n",
        "   u'report_id': 1047040454733282636,\n",
        "   u'state': u'New Jersey',\n",
        "   u'timestamp': u'2013-08-24 16:46:30'},\n",
        "  {u'city': None,\n",
        "   u'country': u'US',\n",
        "   u'location': {u'city': None, u'country': u'US', u'state': u'Utah'},\n",
        "   u'report_id': 1131913028438178422,\n",
        "   u'state': u'Utah',\n",
        "   u'timestamp': u'2013-07-01 15:33:54'},\n",
        "  {u'city': None,\n",
        "   u'country': u'US',\n",
        "   u'location': {u'city': None, u'country': u'US', u'state': u'Indiana'},\n",
        "   u'report_id': 104806216415880554,\n",
        "   u'state': u'Indiana',\n",
        "   u'timestamp': u'2013-05-16 18:36:05'},\n",
        "  {u'city': None,\n",
        "   u'country': u'US',\n",
        "   u'location': {u'city': None, u'country': u'US', u'state': u'Texas'},\n",
        "   u'report_id': 1039199967860154719,\n",
        "   u'state': u'Texas',\n",
        "   u'timestamp': u'2014-03-13 21:41:01'},\n",
        "  {u'city': u'Chicago',\n",
        "   u'country': u'US',\n",
        "   u'location': {u'city': u'Chicago',\n",
        "    u'country': u'US',\n",
        "    u'state': u'Illinois'},\n",
        "   u'report_id': 1048178673373368005,\n",
        "   u'state': u'Illinois',\n",
        "   u'timestamp': u'2014-02-10 09:05:02'},\n",
        "  {u'city': None,\n",
        "   u'country': u'US',\n",
        "   u'location': {u'city': None, u'country': u'US', u'state': u'Indiana'},\n",
        "   u'report_id': 1048062167718188396,\n",
        "   u'state': u'Indiana',\n",
        "   u'timestamp': u'2013-07-06 13:49:04'},\n",
        "  {u'city': None,\n",
        "   u'country': u'US',\n",
        "   u'location': {u'city': None, u'country': u'US', u'state': u'Indiana'},\n",
        "   u'report_id': 1048062165770379562,\n",
        "   u'state': u'Indiana',\n",
        "   u'timestamp': u'2013-05-15 22:01:02'},\n",
        "  {u'city': None,\n",
        "   u'country': u'US',\n",
        "   u'location': {u'city': None, u'country': u'US', u'state': u'Indiana'},\n",
        "   u'report_id': 1048062166268579993,\n",
        "   u'state': u'Indiana',\n",
        "   u'timestamp': u'2013-09-01 09:54:07'},\n",
        "  {u'city': None,\n",
        "   u'country': u'US',\n",
        "   u'location': {u'city': None, u'country': u'US', u'state': u'New York'},\n",
        "   u'report_id': 1047047015952800927,\n",
        "   u'state': u'New York',\n",
        "   u'timestamp': u'2013-06-17 18:38:48'},\n",
        "  {u'city': None,\n",
        "   u'country': u'US',\n",
        "   u'location': {u'city': None, u'country': u'US', u'state': u'Indiana'},\n",
        "   u'report_id': 1048062161246980866,\n",
        "   u'state': u'Indiana',\n",
        "   u'timestamp': u'2013-05-09 15:19:53'},\n",
        "  {u'city': None,\n",
        "   u'country': u'US',\n",
        "   u'location': {u'city': None, u'country': u'US', u'state': u'Indiana'},\n",
        "   u'report_id': 1048062164237503576,\n",
        "   u'state': u'Indiana',\n",
        "   u'timestamp': u'2013-05-09 01:24:20'},\n",
        "  {u'city': None,\n",
        "   u'country': u'US',\n",
        "   u'location': {u'city': None, u'country': u'US', u'state': u'Indiana'},\n",
        "   u'report_id': 1048062163335759725,\n",
        "   u'state': u'Indiana',\n",
        "   u'timestamp': u'2013-05-09 15:19:53'},\n",
        "  {u'city': None,\n",
        "   u'country': u'US',\n",
        "   u'location': {u'city': None, u'country': u'US', u'state': u'Indiana'},\n",
        "   u'report_id': 1048062164514154567,\n",
        "   u'state': u'Indiana',\n",
        "   u'timestamp': u'2013-05-14 13:17:13'},\n",
        "  {u'city': None,\n",
        "   u'country': u'US',\n",
        "   u'location': {u'city': None, u'country': u'US', u'state': u'Indiana'},\n",
        "   u'report_id': 1048062161704108822,\n",
        "   u'state': u'Indiana',\n",
        "   u'timestamp': u'2013-05-10 00:44:13'},\n",
        "  {u'city': None,\n",
        "   u'country': u'US',\n",
        "   u'location': {u'city': None, u'country': u'US', u'state': u'Indiana'},\n",
        "   u'report_id': 1048062162171284686,\n",
        "   u'state': u'Indiana',\n",
        "   u'timestamp': u'2013-08-15 18:57:58'},\n",
        "  {u'city': None,\n",
        "   u'country': u'US',\n",
        "   u'location': {u'city': None, u'country': u'US', u'state': u'Indiana'},\n",
        "   u'report_id': 1048062164285702813,\n",
        "   u'state': u'Indiana',\n",
        "   u'timestamp': u'2013-05-08 17:40:54'},\n",
        "  {u'city': None,\n",
        "   u'country': u'US',\n",
        "   u'location': {u'city': None, u'country': u'US', u'state': u'California'},\n",
        "   u'report_id': 1131697472203813560,\n",
        "   u'state': u'California',\n",
        "   u'timestamp': u'2013-09-27 00:47:31'},\n",
        "  {u'city': None,\n",
        "   u'country': u'US',\n",
        "   u'location': {u'city': None, u'country': u'US', u'state': u'Maryland'},\n",
        "   u'report_id': 1037960644463959045,\n",
        "   u'state': u'Maryland',\n",
        "   u'timestamp': u'2013-12-31 09:32:01'},\n",
        "  {u'city': None,\n",
        "   u'country': u'US',\n",
        "   u'location': {u'city': None, u'country': u'US', u'state': u'Utah'},\n",
        "   u'report_id': 1131913027758468622,\n",
        "   u'state': u'Utah',\n",
        "   u'timestamp': u'2014-03-20 19:10:01'},\n",
        "  {u'city': None,\n",
        "   u'country': u'US',\n",
        "   u'location': {u'city': None, u'country': u'US', u'state': u'Indiana'},\n",
        "   u'report_id': 1048062164708589359,\n",
        "   u'state': u'Indiana',\n",
        "   u'timestamp': u'2014-02-15 12:11:01'},\n",
        "  {u'city': None,\n",
        "   u'country': u'US',\n",
        "   u'location': {u'city': None, u'country': u'US', u'state': u'Indiana'},\n",
        "   u'report_id': 1048062164842424283,\n",
        "   u'state': u'Indiana',\n",
        "   u'timestamp': u'2013-09-03 22:50:05'},\n",
        "  {u'city': None,\n",
        "   u'country': u'US',\n",
        "   u'location': {u'city': None, u'country': u'US', u'state': u'Indiana'},\n",
        "   u'report_id': 1048062167025527777,\n",
        "   u'state': u'Indiana',\n",
        "   u'timestamp': u'2013-05-10 00:44:13'},\n",
        "  {u'city': None,\n",
        "   u'country': u'US',\n",
        "   u'location': {u'city': None, u'country': u'US', u'state': None},\n",
        "   u'report_id': 1039750791551292593,\n",
        "   u'state': None,\n",
        "   u'timestamp': u'2013-06-21 15:01:45'},\n",
        "  {u'city': None,\n",
        "   u'country': u'US',\n",
        "   u'location': {u'city': None, u'country': u'US', u'state': u'Indiana'},\n",
        "   u'report_id': 1048062168269552152,\n",
        "   u'state': u'Indiana',\n",
        "   u'timestamp': u'2013-09-11 19:26:11'},\n",
        "  {u'city': None,\n",
        "   u'country': u'US',\n",
        "   u'location': {u'city': None, u'country': u'US', u'state': u'Texas'},\n",
        "   u'report_id': 1039199963380002377,\n",
        "   u'state': u'Texas',\n",
        "   u'timestamp': u'2014-02-03 23:05:02'},\n",
        "  {u'city': None,\n",
        "   u'country': u'US',\n",
        "   u'location': {u'city': None, u'country': u'US', u'state': u'Indiana'},\n",
        "   u'report_id': 1048062162921375117,\n",
        "   u'state': u'Indiana',\n",
        "   u'timestamp': u'2013-07-27 06:49:19'},\n",
        "  {u'city': None,\n",
        "   u'country': u'US',\n",
        "   u'location': {u'city': None, u'country': u'US', u'state': u'Indiana'},\n",
        "   u'report_id': 1048062164129798559,\n",
        "   u'state': u'Indiana',\n",
        "   u'timestamp': u'2013-05-09 13:35:12'},\n",
        "  {u'city': None,\n",
        "   u'country': u'US',\n",
        "   u'location': {u'city': None, u'country': u'US', u'state': u'California'},\n",
        "   u'report_id': 113169747372433743,\n",
        "   u'state': u'California',\n",
        "   u'timestamp': u'2013-10-16 01:14:50'},\n",
        "  {u'city': None,\n",
        "   u'country': u'US',\n",
        "   u'location': {u'city': None, u'country': u'US', u'state': u'Indiana'},\n",
        "   u'report_id': 1048062167663154787,\n",
        "   u'state': u'Indiana',\n",
        "   u'timestamp': u'2013-05-17 18:12:56'},\n",
        "  {u'city': None,\n",
        "   u'country': u'US',\n",
        "   u'location': {u'city': None, u'country': u'US', u'state': u'Indiana'},\n",
        "   u'report_id': 1048062167569936494,\n",
        "   u'state': u'Indiana',\n",
        "   u'timestamp': u'2014-02-15 12:11:01'},\n",
        "  {u'city': None,\n",
        "   u'country': u'US',\n",
        "   u'location': {u'city': None, u'country': u'US', u'state': u'Indiana'},\n",
        "   u'report_id': 1048062163442109770,\n",
        "   u'state': u'Indiana',\n",
        "   u'timestamp': u'2013-08-01 11:38:45'},\n",
        "  {u'city': None,\n",
        "   u'country': u'US',\n",
        "   u'location': {u'city': None, u'country': u'US', u'state': u'Michigan'},\n",
        "   u'report_id': 1048453618124230014,\n",
        "   u'state': u'Michigan',\n",
        "   u'timestamp': u'2014-02-22 19:32:02'},\n",
        "  {u'city': None,\n",
        "   u'country': u'US',\n",
        "   u'location': {u'city': None, u'country': u'US', u'state': u'Indiana'},\n",
        "   u'report_id': 1048062162409377598,\n",
        "   u'state': u'Indiana',\n",
        "   u'timestamp': u'2014-04-01 20:29:02'},\n",
        "  {u'city': None,\n",
        "   u'country': u'US',\n",
        "   u'location': {u'city': None, u'country': u'US', u'state': u'Indiana'},\n",
        "   u'report_id': 1048062163390210454,\n",
        "   u'state': u'Indiana',\n",
        "   u'timestamp': u'2013-09-08 15:32:17'},\n",
        "  {u'city': None,\n",
        "   u'country': u'US',\n",
        "   u'location': {u'city': None, u'country': u'US', u'state': None},\n",
        "   u'report_id': 1039750797993046075,\n",
        "   u'state': None,\n",
        "   u'timestamp': u'2013-06-21 15:01:45'},\n",
        "  {u'city': None,\n",
        "   u'country': u'CA',\n",
        "   u'location': {u'city': None, u'country': u'CA', u'state': None},\n",
        "   u'report_id': 1058152356431399743,\n",
        "   u'state': None,\n",
        "   u'timestamp': u'2014-03-21 23:10:02'},\n",
        "  {u'city': None,\n",
        "   u'country': u'US',\n",
        "   u'location': {u'city': None, u'country': u'US', u'state': u'Wisconsin'},\n",
        "   u'report_id': 1048387781180496183,\n",
        "   u'state': u'Wisconsin',\n",
        "   u'timestamp': u'2013-05-17 15:39:11'},\n",
        "  {u'city': None,\n",
        "   u'country': u'US',\n",
        "   u'location': {u'city': None, u'country': u'US', u'state': u'Indiana'},\n",
        "   u'report_id': 1048062161892606460,\n",
        "   u'state': u'Indiana',\n",
        "   u'timestamp': u'2013-05-18 16:05:09'}],\n",
        " u'search_params': [{u'tag': {u'id': 65, u'text': u'female victim'}}]}"
       ]
      }
     ],
     "prompt_number": 30
    },
    {
     "cell_type": "code",
     "collapsed": false,
     "input": [
      "type(resp_json)"
     ],
     "language": "python",
     "metadata": {
      "slideshow": {
       "slide_type": "slide"
      }
     },
     "outputs": [
      {
       "metadata": {},
       "output_type": "pyout",
       "prompt_number": 31,
       "text": [
        "dict"
       ]
      }
     ],
     "prompt_number": 31
    },
    {
     "cell_type": "code",
     "collapsed": false,
     "input": [
      "resp_json.keys()"
     ],
     "language": "python",
     "metadata": {
      "slideshow": {
       "slide_type": "fragment"
      }
     },
     "outputs": [
      {
       "metadata": {},
       "output_type": "pyout",
       "prompt_number": 32,
       "text": [
        "[u'search_params', u'reports']"
       ]
      }
     ],
     "prompt_number": 32
    },
    {
     "cell_type": "code",
     "collapsed": false,
     "input": [
      "type(resp_json['reports'])"
     ],
     "language": "python",
     "metadata": {
      "slideshow": {
       "slide_type": "fragment"
      }
     },
     "outputs": [
      {
       "metadata": {},
       "output_type": "pyout",
       "prompt_number": 33,
       "text": [
        "list"
       ]
      }
     ],
     "prompt_number": 33
    },
    {
     "cell_type": "code",
     "collapsed": false,
     "input": [
      "resp_json['reports'][0]"
     ],
     "language": "python",
     "metadata": {
      "slideshow": {
       "slide_type": "fragment"
      }
     },
     "outputs": [
      {
       "metadata": {},
       "output_type": "pyout",
       "prompt_number": 34,
       "text": [
        "{u'city': u'Bloomington',\n",
        " u'country': u'US',\n",
        " u'location': {u'city': u'Bloomington',\n",
        "  u'country': u'US',\n",
        "  u'state': u'Indiana'},\n",
        " u'report_id': 15,\n",
        " u'state': u'Indiana',\n",
        " u'timestamp': u'2012-07-15 11:56:03'}"
       ]
      }
     ],
     "prompt_number": 34
    },
    {
     "cell_type": "code",
     "collapsed": false,
     "input": [
      "import pandas\n",
      "kr_data = pandas.DataFrame.from_records(resp_json['reports'])\n",
      "kr_data.head()"
     ],
     "language": "python",
     "metadata": {
      "slideshow": {
       "slide_type": "slide"
      }
     },
     "outputs": [
      {
       "html": [
        "<div style=\"max-height:1000px;max-width:1500px;overflow:auto;\">\n",
        "<table border=\"1\" class=\"dataframe\">\n",
        "  <thead>\n",
        "    <tr style=\"text-align: right;\">\n",
        "      <th></th>\n",
        "      <th>city</th>\n",
        "      <th>country</th>\n",
        "      <th>location</th>\n",
        "      <th>report_id</th>\n",
        "      <th>state</th>\n",
        "      <th>timestamp</th>\n",
        "    </tr>\n",
        "  </thead>\n",
        "  <tbody>\n",
        "    <tr>\n",
        "      <th>0</th>\n",
        "      <td>     Bloomington</td>\n",
        "      <td> US</td>\n",
        "      <td> {u'city': u'Bloomington', u'state': u'Indiana'...</td>\n",
        "      <td>  15</td>\n",
        "      <td>    Indiana</td>\n",
        "      <td> 2012-07-15 11:56:03</td>\n",
        "    </tr>\n",
        "    <tr>\n",
        "      <th>1</th>\n",
        "      <td>   San Francisco</td>\n",
        "      <td> US</td>\n",
        "      <td> {u'city': u'San Francisco', u'state': u'Califo...</td>\n",
        "      <td>  65</td>\n",
        "      <td> California</td>\n",
        "      <td> 2012-07-24 11:08:31</td>\n",
        "    </tr>\n",
        "    <tr>\n",
        "      <th>2</th>\n",
        "      <td>         Locarno</td>\n",
        "      <td> CH</td>\n",
        "      <td> {u'city': u'Locarno', u'state': u'Ticino', u'c...</td>\n",
        "      <td> 345</td>\n",
        "      <td>     Ticino</td>\n",
        "      <td> 2012-08-21 00:00:00</td>\n",
        "    </tr>\n",
        "    <tr>\n",
        "      <th>3</th>\n",
        "      <td> Arbedo-Castione</td>\n",
        "      <td> CH</td>\n",
        "      <td> {u'city': u'Arbedo-Castione', u'state': u'Tici...</td>\n",
        "      <td> 347</td>\n",
        "      <td>     Ticino</td>\n",
        "      <td> 2012-08-21 00:00:00</td>\n",
        "    </tr>\n",
        "    <tr>\n",
        "      <th>4</th>\n",
        "      <td>       Mendrisio</td>\n",
        "      <td> CH</td>\n",
        "      <td> {u'city': u'Mendrisio', u'state': u'Ticino', u...</td>\n",
        "      <td> 354</td>\n",
        "      <td>     Ticino</td>\n",
        "      <td> 2012-08-21 12:00:00</td>\n",
        "    </tr>\n",
        "  </tbody>\n",
        "</table>\n",
        "<p>5 rows \u00d7 6 columns</p>\n",
        "</div>"
       ],
       "metadata": {},
       "output_type": "pyout",
       "prompt_number": 35,
       "text": [
        "              city country                                           location  \\\n",
        "0      Bloomington      US  {u'city': u'Bloomington', u'state': u'Indiana'...   \n",
        "1    San Francisco      US  {u'city': u'San Francisco', u'state': u'Califo...   \n",
        "2          Locarno      CH  {u'city': u'Locarno', u'state': u'Ticino', u'c...   \n",
        "3  Arbedo-Castione      CH  {u'city': u'Arbedo-Castione', u'state': u'Tici...   \n",
        "4        Mendrisio      CH  {u'city': u'Mendrisio', u'state': u'Ticino', u...   \n",
        "\n",
        "   report_id       state            timestamp  \n",
        "0         15     Indiana  2012-07-15 11:56:03  \n",
        "1         65  California  2012-07-24 11:08:31  \n",
        "2        345      Ticino  2012-08-21 00:00:00  \n",
        "3        347      Ticino  2012-08-21 00:00:00  \n",
        "4        354      Ticino  2012-08-21 12:00:00  \n",
        "\n",
        "[5 rows x 6 columns]"
       ]
      }
     ],
     "prompt_number": 35
    },
    {
     "cell_type": "markdown",
     "metadata": {
      "slideshow": {
       "slide_type": "slide"
      }
     },
     "source": [
      "3.3 APIs -- Advanced Topics (not covered here)\n",
      "====\n",
      "\n",
      "1. Besides csv/tsv and JSON, XML is a common API data format.\n",
      "2. Authentication is sometimes required.\n",
      "    * Notoriously, OAuth is required to get data from Facebook, Twitter, etc.\n"
     ]
    },
    {
     "cell_type": "markdown",
     "metadata": {
      "slideshow": {
       "slide_type": "slide"
      }
     },
     "source": [
      "3.4 Working With the Kinsey Reporter Data\n",
      "====\n",
      "\n",
      "1. Note that there's no index\n",
      "2. Do some summary stats, plots"
     ]
    },
    {
     "cell_type": "markdown",
     "metadata": {
      "slideshow": {
       "slide_type": "slide"
      }
     },
     "source": [
      "3.5 Let's Do Another Mashup\n",
      "====\n",
      "\n",
      "1. Get the dropout data\n",
      "2. Look at the documentation, find the columns we want\n",
      "3. Join the tables\n",
      "4. Make some plots"
     ]
    },
    {
     "cell_type": "markdown",
     "metadata": {
      "slideshow": {
       "slide_type": "slide"
      }
     },
     "source": [
      "3.6 Try it With Twitter Data (probably won't have time)\n",
      "====\n",
      "\n",
      "With proper credentials, one can get a streaming sample (~1%) of Twitter's traffic. Getting a live sample requires authentication and streaming techniques, but I've uploaded a snapshot of a live stream."
     ]
    },
    {
     "cell_type": "markdown",
     "metadata": {
      "slideshow": {
       "slide_type": "slide"
      }
     },
     "source": [
      "Recommended Reading\n",
      "====\n",
      "\n",
      "![](files/pydata_cover.jpg)"
     ]
    }
   ],
   "metadata": {}
  }
 ]
}